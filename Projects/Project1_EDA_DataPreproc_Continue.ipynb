{
 "cells": [
  {
   "cell_type": "markdown",
   "id": "1d540685",
   "metadata": {},
   "source": [
    "## Exploration Data Analysis and Data Preprocessing"
   ]
  },
  {
   "cell_type": "code",
   "execution_count": 1,
   "id": "bb25d81f",
   "metadata": {},
   "outputs": [
    {
     "name": "stdout",
     "output_type": "stream",
     "text": [
      "[WinError 3] The system cannot find the path specified: '/Users/amy/Desktop/Python Bootcamp/projec1_data'\n",
      "d:\\OneDrive\\SeeU\\Python Bootcamp\\Projects\n"
     ]
    },
    {
     "name": "stderr",
     "output_type": "stream",
     "text": [
      "C:\\Users\\Legion_Slim-7i\\AppData\\Roaming\\Python\\Python310\\site-packages\\IPython\\core\\magics\\osm.py:393: UserWarning: This is now an optional IPython functionality, using bookmarks requires you to install the `pickleshare` library.\n",
      "  bkms = self.shell.db.get('bookmarks', {})\n"
     ]
    }
   ],
   "source": [
    "%cd /Users/amy/Desktop/Python Bootcamp/projec1_data"
   ]
  },
  {
   "cell_type": "code",
   "execution_count": 2,
   "id": "5601d948",
   "metadata": {},
   "outputs": [
    {
     "ename": "ModuleNotFoundError",
     "evalue": "No module named 'sklearn'",
     "output_type": "error",
     "traceback": [
      "\u001b[1;31m---------------------------------------------------------------------------\u001b[0m",
      "\u001b[1;31mModuleNotFoundError\u001b[0m                       Traceback (most recent call last)",
      "Cell \u001b[1;32mIn[2], line 7\u001b[0m\n\u001b[0;32m      5\u001b[0m \u001b[38;5;28;01mfrom\u001b[39;00m \u001b[38;5;21;01mmatplotlib\u001b[39;00m\u001b[38;5;21;01m.\u001b[39;00m\u001b[38;5;21;01mpyplot\u001b[39;00m \u001b[38;5;28;01mimport\u001b[39;00m figure\n\u001b[0;32m      6\u001b[0m \u001b[38;5;28;01mfrom\u001b[39;00m \u001b[38;5;21;01mcollections\u001b[39;00m \u001b[38;5;28;01mimport\u001b[39;00m defaultdict\n\u001b[1;32m----> 7\u001b[0m \u001b[38;5;28;01mfrom\u001b[39;00m \u001b[38;5;21;01msklearn\u001b[39;00m\u001b[38;5;21;01m.\u001b[39;00m\u001b[38;5;21;01mpreprocessing\u001b[39;00m \u001b[38;5;28;01mimport\u001b[39;00m LabelEncoder\n\u001b[0;32m      8\u001b[0m \u001b[38;5;28;01mfrom\u001b[39;00m \u001b[38;5;21;01msklearn\u001b[39;00m\u001b[38;5;21;01m.\u001b[39;00m\u001b[38;5;21;01mpreprocessing\u001b[39;00m \u001b[38;5;28;01mimport\u001b[39;00m OneHotEncoder\n\u001b[0;32m     11\u001b[0m \u001b[38;5;66;03m# from sklearn.preprocessing import StandardScaler\u001b[39;00m\n\u001b[0;32m     12\u001b[0m \u001b[38;5;66;03m# from sklearn.preprocessing import MinMaxScaler\u001b[39;00m\n",
      "\u001b[1;31mModuleNotFoundError\u001b[0m: No module named 'sklearn'"
     ]
    }
   ],
   "source": [
    "import pandas as pd\n",
    "import numpy as np\n",
    "import matplotlib.pyplot as plt\n",
    "import seaborn as sns\n",
    "from matplotlib.pyplot import figure\n",
    "from collections import defaultdict\n",
    "from sklearn.preprocessing import LabelEncoder\n",
    "from sklearn.preprocessing import OneHotEncoder\n",
    "\n",
    "\n",
    "# from sklearn.preprocessing import StandardScaler\n",
    "# from sklearn.preprocessing import MinMaxScaler\n",
    "from sklearn import preprocessing"
   ]
  },
  {
   "cell_type": "code",
   "execution_count": 235,
   "id": "cb7c9d32",
   "metadata": {},
   "outputs": [],
   "source": [
    "df = pd.read_csv('aug_train.csv')\n",
    "df_raw = df.copy()\n",
    "df_test = pd.read_csv('aug_test.csv')\n",
    "df_test_target = pd.read_csv('sample_submission.csv')"
   ]
  },
  {
   "cell_type": "code",
   "execution_count": 236,
   "id": "15f2a596",
   "metadata": {},
   "outputs": [],
   "source": [
    "# # importance of join\n",
    "# df_test_comb = pd.merge(df_test,df_test_target,on='enrollee_id',how='inner')\n",
    "# df = df_train.append(df_test_comb)\n",
    "# df_raw = df.copy()"
   ]
  },
  {
   "cell_type": "code",
   "execution_count": null,
   "id": "b65665af",
   "metadata": {},
   "outputs": [],
   "source": []
  },
  {
   "cell_type": "markdown",
   "id": "8c28f0f0",
   "metadata": {},
   "source": [
    "### understand the feature and values"
   ]
  },
  {
   "cell_type": "code",
   "execution_count": 237,
   "id": "8380ffa1",
   "metadata": {
    "scrolled": true
   },
   "outputs": [
    {
     "name": "stdout",
     "output_type": "stream",
     "text": [
      "-----COLUMNS----- enrollee_id\n",
      "int64\n",
      "[8949, 29725, 11561, 33241, 666, 21651, 28806, 402, 27107, 699, 29452, 23853, 25619, 5826, 8722, 6588, 4167, 5764, 2156, 11399]\n",
      "-----COLUMNS----- city\n",
      "object\n",
      "['city_103', 'city_40', 'city_21', 'city_115', 'city_162', 'city_176', 'city_160', 'city_46', 'city_61', 'city_114', 'city_13', 'city_159', 'city_102', 'city_67', 'city_100', 'city_16', 'city_71', 'city_104', 'city_64', 'city_101']\n",
      "-----COLUMNS----- city_development_index\n",
      "float64\n",
      "[0.92, 0.7759999999999999, 0.624, 0.789, 0.767, 0.764, 0.762, 0.913, 0.926, 0.8270000000000001, 0.843, 0.804, 0.855, 0.887, 0.91, 0.884, 0.924, 0.6659999999999999, 0.5579999999999999, 0.923]\n",
      "-----COLUMNS----- gender\n",
      "object\n",
      "['Male', nan, 'Female', 'Other']\n",
      "-----COLUMNS----- relevent_experience\n",
      "object\n",
      "['Has relevent experience', 'No relevent experience']\n",
      "-----COLUMNS----- enrolled_university\n",
      "object\n",
      "['no_enrollment', 'Full time course', nan, 'Part time course']\n",
      "-----COLUMNS----- education_level\n",
      "object\n",
      "['Graduate', 'Masters', 'High School', nan, 'Phd', 'Primary School']\n",
      "-----COLUMNS----- major_discipline\n",
      "object\n",
      "['STEM', 'Business Degree', nan, 'Arts', 'Humanities', 'No Major', 'Other']\n",
      "-----COLUMNS----- experience\n",
      "object\n",
      "['>20', '15', '5', '<1', '11', '13', '7', '17', '2', '16', '1', '4', '10', '14', '18', '19', '12', '3', '6', '9']\n",
      "-----COLUMNS----- company_size\n",
      "object\n",
      "[nan, '50-99', '<10', '10000+', '5000-9999', '1000-4999', '10/49', '100-500', '500-999']\n",
      "-----COLUMNS----- company_type\n",
      "object\n",
      "[nan, 'Pvt Ltd', 'Funded Startup', 'Early Stage Startup', 'Other', 'Public Sector', 'NGO']\n",
      "-----COLUMNS----- last_new_job\n",
      "object\n",
      "['1', '>4', 'never', '4', '3', '2', nan]\n",
      "-----COLUMNS----- training_hours\n",
      "int64\n",
      "[36, 47, 83, 52, 8, 24, 18, 46, 123, 32, 108, 23, 26, 106, 7, 132, 68, 50, 48, 65]\n",
      "-----COLUMNS----- target\n",
      "float64\n",
      "[1.0, 0.0]\n"
     ]
    }
   ],
   "source": [
    "for x in df.columns:\n",
    "    print('-----COLUMNS-----', x)\n",
    "    print(df[x].dtype)\n",
    "    print(df[x].unique().tolist()[:20])"
   ]
  },
  {
   "cell_type": "code",
   "execution_count": 238,
   "id": "93da0ef0",
   "metadata": {},
   "outputs": [],
   "source": [
    "# 'enrollee_id' : Remove, not use in Modeling\n",
    "# 'city' : "
   ]
  },
  {
   "cell_type": "markdown",
   "id": "207bb1ff",
   "metadata": {},
   "source": [
    "## Explore and identify preprocessing steps"
   ]
  },
  {
   "cell_type": "code",
   "execution_count": 239,
   "id": "a5a55f75",
   "metadata": {},
   "outputs": [
    {
     "data": {
      "text/plain": [
       "enrollee_id                  0\n",
       "city                         0\n",
       "city_development_index       0\n",
       "gender                    4508\n",
       "relevent_experience          0\n",
       "enrolled_university        386\n",
       "education_level            460\n",
       "major_discipline          2813\n",
       "experience                  65\n",
       "company_size              5938\n",
       "company_type              6140\n",
       "last_new_job               423\n",
       "training_hours               0\n",
       "target                       0\n",
       "dtype: int64"
      ]
     },
     "execution_count": 239,
     "metadata": {},
     "output_type": "execute_result"
    }
   ],
   "source": [
    "# count of missing value per column\n",
    "df.isnull().sum()"
   ]
  },
  {
   "cell_type": "code",
   "execution_count": 240,
   "id": "195d051b",
   "metadata": {},
   "outputs": [
    {
     "data": {
      "text/plain": [
       "0    8955\n",
       "1    3718\n",
       "2    3654\n",
       "3    1953\n",
       "4     628\n",
       "5     176\n",
       "6      62\n",
       "7      12\n",
       "Name: 0, dtype: int64"
      ]
     },
     "execution_count": 240,
     "metadata": {},
     "output_type": "execute_result"
    }
   ],
   "source": [
    "# count of missing value per row\n",
    "missing_value_row = pd.DataFrame(df.isnull().sum(axis=1))\n",
    "missing_value_row[0].value_counts()"
   ]
  },
  {
   "cell_type": "code",
   "execution_count": 241,
   "id": "25193900",
   "metadata": {},
   "outputs": [
    {
     "data": {
      "text/html": [
       "<div>\n",
       "<style scoped>\n",
       "    .dataframe tbody tr th:only-of-type {\n",
       "        vertical-align: middle;\n",
       "    }\n",
       "\n",
       "    .dataframe tbody tr th {\n",
       "        vertical-align: top;\n",
       "    }\n",
       "\n",
       "    .dataframe thead th {\n",
       "        text-align: right;\n",
       "    }\n",
       "</style>\n",
       "<table border=\"1\" class=\"dataframe\">\n",
       "  <thead>\n",
       "    <tr style=\"text-align: right;\">\n",
       "      <th></th>\n",
       "      <th>0</th>\n",
       "    </tr>\n",
       "  </thead>\n",
       "  <tbody>\n",
       "    <tr>\n",
       "      <th>1376</th>\n",
       "      <td>7</td>\n",
       "    </tr>\n",
       "    <tr>\n",
       "      <th>2518</th>\n",
       "      <td>7</td>\n",
       "    </tr>\n",
       "    <tr>\n",
       "      <th>7746</th>\n",
       "      <td>7</td>\n",
       "    </tr>\n",
       "    <tr>\n",
       "      <th>8905</th>\n",
       "      <td>7</td>\n",
       "    </tr>\n",
       "    <tr>\n",
       "      <th>9206</th>\n",
       "      <td>7</td>\n",
       "    </tr>\n",
       "    <tr>\n",
       "      <th>10337</th>\n",
       "      <td>7</td>\n",
       "    </tr>\n",
       "    <tr>\n",
       "      <th>11789</th>\n",
       "      <td>7</td>\n",
       "    </tr>\n",
       "    <tr>\n",
       "      <th>12079</th>\n",
       "      <td>7</td>\n",
       "    </tr>\n",
       "    <tr>\n",
       "      <th>12348</th>\n",
       "      <td>7</td>\n",
       "    </tr>\n",
       "    <tr>\n",
       "      <th>13236</th>\n",
       "      <td>7</td>\n",
       "    </tr>\n",
       "    <tr>\n",
       "      <th>17453</th>\n",
       "      <td>7</td>\n",
       "    </tr>\n",
       "    <tr>\n",
       "      <th>17977</th>\n",
       "      <td>7</td>\n",
       "    </tr>\n",
       "  </tbody>\n",
       "</table>\n",
       "</div>"
      ],
      "text/plain": [
       "       0\n",
       "1376   7\n",
       "2518   7\n",
       "7746   7\n",
       "8905   7\n",
       "9206   7\n",
       "10337  7\n",
       "11789  7\n",
       "12079  7\n",
       "12348  7\n",
       "13236  7\n",
       "17453  7\n",
       "17977  7"
      ]
     },
     "execution_count": 241,
     "metadata": {},
     "output_type": "execute_result"
    }
   ],
   "source": [
    "# examine the row that has way too many missing value\n",
    "missing_value_row[missing_value_row[0]==7]"
   ]
  },
  {
   "cell_type": "code",
   "execution_count": 242,
   "id": "c1516a06",
   "metadata": {},
   "outputs": [
    {
     "data": {
      "text/html": [
       "<div>\n",
       "<style scoped>\n",
       "    .dataframe tbody tr th:only-of-type {\n",
       "        vertical-align: middle;\n",
       "    }\n",
       "\n",
       "    .dataframe tbody tr th {\n",
       "        vertical-align: top;\n",
       "    }\n",
       "\n",
       "    .dataframe thead th {\n",
       "        text-align: right;\n",
       "    }\n",
       "</style>\n",
       "<table border=\"1\" class=\"dataframe\">\n",
       "  <thead>\n",
       "    <tr style=\"text-align: right;\">\n",
       "      <th></th>\n",
       "      <th>enrollee_id</th>\n",
       "      <th>city</th>\n",
       "      <th>city_development_index</th>\n",
       "      <th>gender</th>\n",
       "      <th>relevent_experience</th>\n",
       "      <th>enrolled_university</th>\n",
       "      <th>education_level</th>\n",
       "      <th>major_discipline</th>\n",
       "      <th>experience</th>\n",
       "      <th>company_size</th>\n",
       "      <th>company_type</th>\n",
       "      <th>last_new_job</th>\n",
       "      <th>training_hours</th>\n",
       "      <th>target</th>\n",
       "    </tr>\n",
       "  </thead>\n",
       "  <tbody>\n",
       "    <tr>\n",
       "      <th>1376</th>\n",
       "      <td>30685</td>\n",
       "      <td>city_103</td>\n",
       "      <td>0.920</td>\n",
       "      <td>NaN</td>\n",
       "      <td>Has relevent experience</td>\n",
       "      <td>NaN</td>\n",
       "      <td>NaN</td>\n",
       "      <td>NaN</td>\n",
       "      <td>6</td>\n",
       "      <td>NaN</td>\n",
       "      <td>NaN</td>\n",
       "      <td>NaN</td>\n",
       "      <td>156</td>\n",
       "      <td>0.0</td>\n",
       "    </tr>\n",
       "    <tr>\n",
       "      <th>1377</th>\n",
       "      <td>31595</td>\n",
       "      <td>city_103</td>\n",
       "      <td>0.920</td>\n",
       "      <td>Male</td>\n",
       "      <td>Has relevent experience</td>\n",
       "      <td>no_enrollment</td>\n",
       "      <td>Graduate</td>\n",
       "      <td>STEM</td>\n",
       "      <td>&gt;20</td>\n",
       "      <td>1000-4999</td>\n",
       "      <td>Pvt Ltd</td>\n",
       "      <td>&gt;4</td>\n",
       "      <td>58</td>\n",
       "      <td>0.0</td>\n",
       "    </tr>\n",
       "    <tr>\n",
       "      <th>1378</th>\n",
       "      <td>23812</td>\n",
       "      <td>city_28</td>\n",
       "      <td>0.939</td>\n",
       "      <td>Male</td>\n",
       "      <td>Has relevent experience</td>\n",
       "      <td>Full time course</td>\n",
       "      <td>High School</td>\n",
       "      <td>NaN</td>\n",
       "      <td>8</td>\n",
       "      <td>NaN</td>\n",
       "      <td>NaN</td>\n",
       "      <td>never</td>\n",
       "      <td>180</td>\n",
       "      <td>0.0</td>\n",
       "    </tr>\n",
       "    <tr>\n",
       "      <th>1379</th>\n",
       "      <td>16712</td>\n",
       "      <td>city_74</td>\n",
       "      <td>0.579</td>\n",
       "      <td>Male</td>\n",
       "      <td>Has relevent experience</td>\n",
       "      <td>no_enrollment</td>\n",
       "      <td>Masters</td>\n",
       "      <td>Humanities</td>\n",
       "      <td>10</td>\n",
       "      <td>NaN</td>\n",
       "      <td>NaN</td>\n",
       "      <td>never</td>\n",
       "      <td>27</td>\n",
       "      <td>0.0</td>\n",
       "    </tr>\n",
       "    <tr>\n",
       "      <th>1380</th>\n",
       "      <td>7174</td>\n",
       "      <td>city_103</td>\n",
       "      <td>0.920</td>\n",
       "      <td>Male</td>\n",
       "      <td>Has relevent experience</td>\n",
       "      <td>no_enrollment</td>\n",
       "      <td>Graduate</td>\n",
       "      <td>STEM</td>\n",
       "      <td>6</td>\n",
       "      <td>5000-9999</td>\n",
       "      <td>NGO</td>\n",
       "      <td>2</td>\n",
       "      <td>246</td>\n",
       "      <td>0.0</td>\n",
       "    </tr>\n",
       "    <tr>\n",
       "      <th>...</th>\n",
       "      <td>...</td>\n",
       "      <td>...</td>\n",
       "      <td>...</td>\n",
       "      <td>...</td>\n",
       "      <td>...</td>\n",
       "      <td>...</td>\n",
       "      <td>...</td>\n",
       "      <td>...</td>\n",
       "      <td>...</td>\n",
       "      <td>...</td>\n",
       "      <td>...</td>\n",
       "      <td>...</td>\n",
       "      <td>...</td>\n",
       "      <td>...</td>\n",
       "    </tr>\n",
       "    <tr>\n",
       "      <th>19153</th>\n",
       "      <td>7386</td>\n",
       "      <td>city_173</td>\n",
       "      <td>0.878</td>\n",
       "      <td>Male</td>\n",
       "      <td>No relevent experience</td>\n",
       "      <td>no_enrollment</td>\n",
       "      <td>Graduate</td>\n",
       "      <td>Humanities</td>\n",
       "      <td>14</td>\n",
       "      <td>NaN</td>\n",
       "      <td>NaN</td>\n",
       "      <td>1</td>\n",
       "      <td>42</td>\n",
       "      <td>1.0</td>\n",
       "    </tr>\n",
       "    <tr>\n",
       "      <th>19154</th>\n",
       "      <td>31398</td>\n",
       "      <td>city_103</td>\n",
       "      <td>0.920</td>\n",
       "      <td>Male</td>\n",
       "      <td>Has relevent experience</td>\n",
       "      <td>no_enrollment</td>\n",
       "      <td>Graduate</td>\n",
       "      <td>STEM</td>\n",
       "      <td>14</td>\n",
       "      <td>NaN</td>\n",
       "      <td>NaN</td>\n",
       "      <td>4</td>\n",
       "      <td>52</td>\n",
       "      <td>1.0</td>\n",
       "    </tr>\n",
       "    <tr>\n",
       "      <th>19155</th>\n",
       "      <td>24576</td>\n",
       "      <td>city_103</td>\n",
       "      <td>0.920</td>\n",
       "      <td>Male</td>\n",
       "      <td>Has relevent experience</td>\n",
       "      <td>no_enrollment</td>\n",
       "      <td>Graduate</td>\n",
       "      <td>STEM</td>\n",
       "      <td>&gt;20</td>\n",
       "      <td>50-99</td>\n",
       "      <td>Pvt Ltd</td>\n",
       "      <td>4</td>\n",
       "      <td>44</td>\n",
       "      <td>0.0</td>\n",
       "    </tr>\n",
       "    <tr>\n",
       "      <th>19156</th>\n",
       "      <td>5756</td>\n",
       "      <td>city_65</td>\n",
       "      <td>0.802</td>\n",
       "      <td>Male</td>\n",
       "      <td>Has relevent experience</td>\n",
       "      <td>no_enrollment</td>\n",
       "      <td>High School</td>\n",
       "      <td>NaN</td>\n",
       "      <td>&lt;1</td>\n",
       "      <td>500-999</td>\n",
       "      <td>Pvt Ltd</td>\n",
       "      <td>2</td>\n",
       "      <td>97</td>\n",
       "      <td>0.0</td>\n",
       "    </tr>\n",
       "    <tr>\n",
       "      <th>19157</th>\n",
       "      <td>23834</td>\n",
       "      <td>city_67</td>\n",
       "      <td>0.855</td>\n",
       "      <td>NaN</td>\n",
       "      <td>No relevent experience</td>\n",
       "      <td>no_enrollment</td>\n",
       "      <td>Primary School</td>\n",
       "      <td>NaN</td>\n",
       "      <td>2</td>\n",
       "      <td>NaN</td>\n",
       "      <td>NaN</td>\n",
       "      <td>1</td>\n",
       "      <td>127</td>\n",
       "      <td>0.0</td>\n",
       "    </tr>\n",
       "  </tbody>\n",
       "</table>\n",
       "<p>17782 rows × 14 columns</p>\n",
       "</div>"
      ],
      "text/plain": [
       "       enrollee_id      city  city_development_index gender  \\\n",
       "1376         30685  city_103                   0.920    NaN   \n",
       "1377         31595  city_103                   0.920   Male   \n",
       "1378         23812   city_28                   0.939   Male   \n",
       "1379         16712   city_74                   0.579   Male   \n",
       "1380          7174  city_103                   0.920   Male   \n",
       "...            ...       ...                     ...    ...   \n",
       "19153         7386  city_173                   0.878   Male   \n",
       "19154        31398  city_103                   0.920   Male   \n",
       "19155        24576  city_103                   0.920   Male   \n",
       "19156         5756   city_65                   0.802   Male   \n",
       "19157        23834   city_67                   0.855    NaN   \n",
       "\n",
       "           relevent_experience enrolled_university education_level  \\\n",
       "1376   Has relevent experience                 NaN             NaN   \n",
       "1377   Has relevent experience       no_enrollment        Graduate   \n",
       "1378   Has relevent experience    Full time course     High School   \n",
       "1379   Has relevent experience       no_enrollment         Masters   \n",
       "1380   Has relevent experience       no_enrollment        Graduate   \n",
       "...                        ...                 ...             ...   \n",
       "19153   No relevent experience       no_enrollment        Graduate   \n",
       "19154  Has relevent experience       no_enrollment        Graduate   \n",
       "19155  Has relevent experience       no_enrollment        Graduate   \n",
       "19156  Has relevent experience       no_enrollment     High School   \n",
       "19157   No relevent experience       no_enrollment  Primary School   \n",
       "\n",
       "      major_discipline experience company_size company_type last_new_job  \\\n",
       "1376               NaN          6          NaN          NaN          NaN   \n",
       "1377              STEM        >20    1000-4999      Pvt Ltd           >4   \n",
       "1378               NaN          8          NaN          NaN        never   \n",
       "1379        Humanities         10          NaN          NaN        never   \n",
       "1380              STEM          6    5000-9999          NGO            2   \n",
       "...                ...        ...          ...          ...          ...   \n",
       "19153       Humanities         14          NaN          NaN            1   \n",
       "19154             STEM         14          NaN          NaN            4   \n",
       "19155             STEM        >20        50-99      Pvt Ltd            4   \n",
       "19156              NaN         <1      500-999      Pvt Ltd            2   \n",
       "19157              NaN          2          NaN          NaN            1   \n",
       "\n",
       "       training_hours  target  \n",
       "1376              156     0.0  \n",
       "1377               58     0.0  \n",
       "1378              180     0.0  \n",
       "1379               27     0.0  \n",
       "1380              246     0.0  \n",
       "...               ...     ...  \n",
       "19153              42     1.0  \n",
       "19154              52     1.0  \n",
       "19155              44     0.0  \n",
       "19156              97     0.0  \n",
       "19157             127     0.0  \n",
       "\n",
       "[17782 rows x 14 columns]"
      ]
     },
     "execution_count": 242,
     "metadata": {},
     "output_type": "execute_result"
    }
   ],
   "source": [
    "df[1376:]"
   ]
  },
  {
   "cell_type": "code",
   "execution_count": 243,
   "id": "77ae90cc",
   "metadata": {},
   "outputs": [
    {
     "data": {
      "text/plain": [
       "(19158, 14)"
      ]
     },
     "execution_count": 243,
     "metadata": {},
     "output_type": "execute_result"
    }
   ],
   "source": [
    "df.shape"
   ]
  },
  {
   "cell_type": "code",
   "execution_count": 244,
   "id": "267f60e6",
   "metadata": {},
   "outputs": [],
   "source": [
    "# drop the row if less than 10 non-null value . 14 total column - 5missing colum = 9 , 9+1 = 10 at least 10 non-missing value\n",
    "# remove 250 records thats has more than 5 missing value in a record\n",
    "df.dropna(axis=0, thresh=10, inplace=True) # drop the row, at least 10 non missing value\n"
   ]
  },
  {
   "cell_type": "code",
   "execution_count": 245,
   "id": "6781153c",
   "metadata": {},
   "outputs": [
    {
     "data": {
      "text/plain": [
       "(18908, 14)"
      ]
     },
     "execution_count": 245,
     "metadata": {},
     "output_type": "execute_result"
    }
   ],
   "source": [
    "df.shape"
   ]
  },
  {
   "cell_type": "code",
   "execution_count": 246,
   "id": "e25bda15",
   "metadata": {},
   "outputs": [
    {
     "data": {
      "text/plain": [
       "enrollee_id                  0\n",
       "city                         0\n",
       "city_development_index       0\n",
       "gender                    4300\n",
       "relevent_experience          0\n",
       "enrolled_university        271\n",
       "education_level            284\n",
       "major_discipline          2572\n",
       "experience                  46\n",
       "company_size              5695\n",
       "company_type              5894\n",
       "last_new_job               335\n",
       "training_hours               0\n",
       "target                       0\n",
       "dtype: int64"
      ]
     },
     "execution_count": 246,
     "metadata": {},
     "output_type": "execute_result"
    }
   ],
   "source": [
    "df.isnull().sum()\n"
   ]
  },
  {
   "cell_type": "markdown",
   "id": "5535c983",
   "metadata": {},
   "source": [
    "#### City"
   ]
  },
  {
   "cell_type": "code",
   "execution_count": 247,
   "id": "77e237fa",
   "metadata": {},
   "outputs": [],
   "source": [
    "# save as dictionary of each city counts\n",
    "city_dict = df['city'].value_counts().to_dict()"
   ]
  },
  {
   "cell_type": "code",
   "execution_count": 248,
   "id": "b489fb4e",
   "metadata": {},
   "outputs": [],
   "source": [
    "## Binning , categorize all count of candidate <=50 as one group'small_city'\n",
    "lst_small_city=[]\n",
    "lst_med_city=[]\n",
    "lst_large_city=[]\n",
    "lst_superlarge_city=[]\n",
    "for key,value in city_dict.items():\n",
    "    if value <=50:\n",
    "        lst_small_city.append(key)\n",
    "    if value >50 and value <=100:\n",
    "        lst_med_city.append(key)\n",
    "    if value >100 and value <=200:\n",
    "        lst_large_city.append(key)\n",
    "    else:\n",
    "        lst_superlarge_city.append(key)"
   ]
  },
  {
   "cell_type": "code",
   "execution_count": null,
   "id": "496b41ca",
   "metadata": {},
   "outputs": [],
   "source": []
  },
  {
   "cell_type": "code",
   "execution_count": 249,
   "id": "bc2586df",
   "metadata": {},
   "outputs": [],
   "source": [
    "# replace those small city name as 'city_small'\n",
    "\n",
    "df.loc[df['city'].isin(lst_small_city) , 'city'] = 'city_small'\n",
    "df.loc[df['city'].isin(lst_med_city) , 'city'] = 'city_med'\n",
    "df.loc[df['city'].isin(lst_large_city) , 'city'] = 'city_large'\n",
    "df.loc[df['city'].isin(lst_superlarge_city) , 'city'] = 'city_xlarge'"
   ]
  },
  {
   "cell_type": "code",
   "execution_count": 250,
   "id": "3bb8f4c8",
   "metadata": {},
   "outputs": [
    {
     "data": {
      "text/plain": [
       "city_xlarge    13615\n",
       "city_large      2566\n",
       "city_med        1457\n",
       "city_small      1270\n",
       "Name: city, dtype: int64"
      ]
     },
     "execution_count": 250,
     "metadata": {},
     "output_type": "execute_result"
    }
   ],
   "source": [
    "df.city.value_counts()"
   ]
  },
  {
   "cell_type": "code",
   "execution_count": 251,
   "id": "b30850b4",
   "metadata": {},
   "outputs": [],
   "source": [
    "le = LabelEncoder().fit(df['city'])\n",
    "CityList = le.classes_\n",
    "df['city'] = le.transform(df['city'])"
   ]
  },
  {
   "cell_type": "code",
   "execution_count": 252,
   "id": "5a527cbc",
   "metadata": {},
   "outputs": [
    {
     "data": {
      "text/plain": [
       "{'city_large': 0, 'city_med': 1, 'city_small': 2, 'city_xlarge': 3}"
      ]
     },
     "execution_count": 252,
     "metadata": {},
     "output_type": "execute_result"
    }
   ],
   "source": [
    "# Keep the record of labeling\n",
    "dict(zip(le.classes_, le.transform(le.classes_)))\n"
   ]
  },
  {
   "cell_type": "markdown",
   "id": "be507036",
   "metadata": {},
   "source": [
    "#### city_development_index"
   ]
  },
  {
   "cell_type": "code",
   "execution_count": 253,
   "id": "539981ea",
   "metadata": {},
   "outputs": [
    {
     "data": {
      "text/plain": [
       "<AxesSubplot:xlabel='city_development_index'>"
      ]
     },
     "execution_count": 253,
     "metadata": {},
     "output_type": "execute_result"
    },
    {
     "data": {
      "image/png": "[encoded data removed]",
      "text/plain": [
       "<Figure size 432x288 with 1 Axes>"
      ]
     },
     "metadata": {
      "needs_background": "light"
     },
     "output_type": "display_data"
    }
   ],
   "source": [
    "######## TODO: check outlier, needs for normalization?\n",
    "sns.boxplot(x=df['city_development_index'])"
   ]
  },
  {
   "cell_type": "code",
   "execution_count": 254,
   "id": "3107b9cd",
   "metadata": {
    "scrolled": true
   },
   "outputs": [
    {
     "name": "stdout",
     "output_type": "stream",
     "text": [
      "0.18000000000000005 1.1900000000000002 0.4699999999999999\n"
     ]
    },
    {
     "data": {
      "text/html": [
       "<div>\n",
       "<style scoped>\n",
       "    .dataframe tbody tr th:only-of-type {\n",
       "        vertical-align: middle;\n",
       "    }\n",
       "\n",
       "    .dataframe tbody tr th {\n",
       "        vertical-align: top;\n",
       "    }\n",
       "\n",
       "    .dataframe thead th {\n",
       "        text-align: right;\n",
       "    }\n",
       "</style>\n",
       "<table border=\"1\" class=\"dataframe\">\n",
       "  <thead>\n",
       "    <tr style=\"text-align: right;\">\n",
       "      <th></th>\n",
       "      <th>enrollee_id</th>\n",
       "      <th>city</th>\n",
       "      <th>city_development_index</th>\n",
       "      <th>gender</th>\n",
       "      <th>relevent_experience</th>\n",
       "      <th>enrolled_university</th>\n",
       "      <th>education_level</th>\n",
       "      <th>major_discipline</th>\n",
       "      <th>experience</th>\n",
       "      <th>company_size</th>\n",
       "      <th>company_type</th>\n",
       "      <th>last_new_job</th>\n",
       "      <th>training_hours</th>\n",
       "      <th>target</th>\n",
       "    </tr>\n",
       "  </thead>\n",
       "  <tbody>\n",
       "    <tr>\n",
       "      <th>1523</th>\n",
       "      <td>8238</td>\n",
       "      <td>2</td>\n",
       "      <td>0.448</td>\n",
       "      <td>NaN</td>\n",
       "      <td>Has relevent experience</td>\n",
       "      <td>Part time course</td>\n",
       "      <td>Graduate</td>\n",
       "      <td>STEM</td>\n",
       "      <td>10</td>\n",
       "      <td>50-99</td>\n",
       "      <td>NGO</td>\n",
       "      <td>&gt;4</td>\n",
       "      <td>48</td>\n",
       "      <td>1.0</td>\n",
       "    </tr>\n",
       "    <tr>\n",
       "      <th>4744</th>\n",
       "      <td>30985</td>\n",
       "      <td>2</td>\n",
       "      <td>0.448</td>\n",
       "      <td>NaN</td>\n",
       "      <td>No relevent experience</td>\n",
       "      <td>Full time course</td>\n",
       "      <td>Graduate</td>\n",
       "      <td>STEM</td>\n",
       "      <td>2</td>\n",
       "      <td>NaN</td>\n",
       "      <td>NaN</td>\n",
       "      <td>never</td>\n",
       "      <td>43</td>\n",
       "      <td>1.0</td>\n",
       "    </tr>\n",
       "    <tr>\n",
       "      <th>5010</th>\n",
       "      <td>27970</td>\n",
       "      <td>2</td>\n",
       "      <td>0.448</td>\n",
       "      <td>Male</td>\n",
       "      <td>No relevent experience</td>\n",
       "      <td>no_enrollment</td>\n",
       "      <td>Graduate</td>\n",
       "      <td>STEM</td>\n",
       "      <td>1</td>\n",
       "      <td>NaN</td>\n",
       "      <td>NaN</td>\n",
       "      <td>never</td>\n",
       "      <td>73</td>\n",
       "      <td>1.0</td>\n",
       "    </tr>\n",
       "    <tr>\n",
       "      <th>5265</th>\n",
       "      <td>31194</td>\n",
       "      <td>2</td>\n",
       "      <td>0.448</td>\n",
       "      <td>NaN</td>\n",
       "      <td>No relevent experience</td>\n",
       "      <td>NaN</td>\n",
       "      <td>High School</td>\n",
       "      <td>NaN</td>\n",
       "      <td>5</td>\n",
       "      <td>NaN</td>\n",
       "      <td>Pvt Ltd</td>\n",
       "      <td>never</td>\n",
       "      <td>86</td>\n",
       "      <td>1.0</td>\n",
       "    </tr>\n",
       "    <tr>\n",
       "      <th>5567</th>\n",
       "      <td>598</td>\n",
       "      <td>2</td>\n",
       "      <td>0.448</td>\n",
       "      <td>NaN</td>\n",
       "      <td>Has relevent experience</td>\n",
       "      <td>Part time course</td>\n",
       "      <td>Masters</td>\n",
       "      <td>STEM</td>\n",
       "      <td>6</td>\n",
       "      <td>NaN</td>\n",
       "      <td>NaN</td>\n",
       "      <td>1</td>\n",
       "      <td>18</td>\n",
       "      <td>1.0</td>\n",
       "    </tr>\n",
       "    <tr>\n",
       "      <th>6127</th>\n",
       "      <td>18564</td>\n",
       "      <td>2</td>\n",
       "      <td>0.448</td>\n",
       "      <td>NaN</td>\n",
       "      <td>No relevent experience</td>\n",
       "      <td>Full time course</td>\n",
       "      <td>Graduate</td>\n",
       "      <td>STEM</td>\n",
       "      <td>4</td>\n",
       "      <td>NaN</td>\n",
       "      <td>Public Sector</td>\n",
       "      <td>4</td>\n",
       "      <td>32</td>\n",
       "      <td>1.0</td>\n",
       "    </tr>\n",
       "    <tr>\n",
       "      <th>7724</th>\n",
       "      <td>31179</td>\n",
       "      <td>2</td>\n",
       "      <td>0.448</td>\n",
       "      <td>Male</td>\n",
       "      <td>Has relevent experience</td>\n",
       "      <td>no_enrollment</td>\n",
       "      <td>Graduate</td>\n",
       "      <td>STEM</td>\n",
       "      <td>7</td>\n",
       "      <td>50-99</td>\n",
       "      <td>Pvt Ltd</td>\n",
       "      <td>1</td>\n",
       "      <td>28</td>\n",
       "      <td>0.0</td>\n",
       "    </tr>\n",
       "    <tr>\n",
       "      <th>7864</th>\n",
       "      <td>26838</td>\n",
       "      <td>2</td>\n",
       "      <td>0.448</td>\n",
       "      <td>Male</td>\n",
       "      <td>Has relevent experience</td>\n",
       "      <td>no_enrollment</td>\n",
       "      <td>Graduate</td>\n",
       "      <td>STEM</td>\n",
       "      <td>8</td>\n",
       "      <td>NaN</td>\n",
       "      <td>NaN</td>\n",
       "      <td>&gt;4</td>\n",
       "      <td>74</td>\n",
       "      <td>0.0</td>\n",
       "    </tr>\n",
       "    <tr>\n",
       "      <th>9134</th>\n",
       "      <td>4858</td>\n",
       "      <td>2</td>\n",
       "      <td>0.448</td>\n",
       "      <td>NaN</td>\n",
       "      <td>No relevent experience</td>\n",
       "      <td>Part time course</td>\n",
       "      <td>Masters</td>\n",
       "      <td>Other</td>\n",
       "      <td>2</td>\n",
       "      <td>&lt;10</td>\n",
       "      <td>NGO</td>\n",
       "      <td>1</td>\n",
       "      <td>23</td>\n",
       "      <td>1.0</td>\n",
       "    </tr>\n",
       "    <tr>\n",
       "      <th>10401</th>\n",
       "      <td>19463</td>\n",
       "      <td>2</td>\n",
       "      <td>0.448</td>\n",
       "      <td>Male</td>\n",
       "      <td>No relevent experience</td>\n",
       "      <td>no_enrollment</td>\n",
       "      <td>Graduate</td>\n",
       "      <td>STEM</td>\n",
       "      <td>5</td>\n",
       "      <td>10000+</td>\n",
       "      <td>Pvt Ltd</td>\n",
       "      <td>2</td>\n",
       "      <td>36</td>\n",
       "      <td>0.0</td>\n",
       "    </tr>\n",
       "    <tr>\n",
       "      <th>13549</th>\n",
       "      <td>28317</td>\n",
       "      <td>2</td>\n",
       "      <td>0.448</td>\n",
       "      <td>NaN</td>\n",
       "      <td>Has relevent experience</td>\n",
       "      <td>no_enrollment</td>\n",
       "      <td>Graduate</td>\n",
       "      <td>STEM</td>\n",
       "      <td>8</td>\n",
       "      <td>10/49</td>\n",
       "      <td>Pvt Ltd</td>\n",
       "      <td>2</td>\n",
       "      <td>14</td>\n",
       "      <td>0.0</td>\n",
       "    </tr>\n",
       "    <tr>\n",
       "      <th>14913</th>\n",
       "      <td>3891</td>\n",
       "      <td>2</td>\n",
       "      <td>0.448</td>\n",
       "      <td>Male</td>\n",
       "      <td>No relevent experience</td>\n",
       "      <td>Full time course</td>\n",
       "      <td>High School</td>\n",
       "      <td>NaN</td>\n",
       "      <td>4</td>\n",
       "      <td>NaN</td>\n",
       "      <td>NaN</td>\n",
       "      <td>never</td>\n",
       "      <td>31</td>\n",
       "      <td>0.0</td>\n",
       "    </tr>\n",
       "    <tr>\n",
       "      <th>15114</th>\n",
       "      <td>4776</td>\n",
       "      <td>2</td>\n",
       "      <td>0.448</td>\n",
       "      <td>NaN</td>\n",
       "      <td>No relevent experience</td>\n",
       "      <td>Full time course</td>\n",
       "      <td>Masters</td>\n",
       "      <td>STEM</td>\n",
       "      <td>4</td>\n",
       "      <td>NaN</td>\n",
       "      <td>Pvt Ltd</td>\n",
       "      <td>never</td>\n",
       "      <td>66</td>\n",
       "      <td>1.0</td>\n",
       "    </tr>\n",
       "    <tr>\n",
       "      <th>16555</th>\n",
       "      <td>30131</td>\n",
       "      <td>2</td>\n",
       "      <td>0.448</td>\n",
       "      <td>Male</td>\n",
       "      <td>Has relevent experience</td>\n",
       "      <td>no_enrollment</td>\n",
       "      <td>Graduate</td>\n",
       "      <td>STEM</td>\n",
       "      <td>4</td>\n",
       "      <td>100-500</td>\n",
       "      <td>Pvt Ltd</td>\n",
       "      <td>1</td>\n",
       "      <td>16</td>\n",
       "      <td>0.0</td>\n",
       "    </tr>\n",
       "    <tr>\n",
       "      <th>16784</th>\n",
       "      <td>10486</td>\n",
       "      <td>2</td>\n",
       "      <td>0.448</td>\n",
       "      <td>NaN</td>\n",
       "      <td>No relevent experience</td>\n",
       "      <td>Full time course</td>\n",
       "      <td>Graduate</td>\n",
       "      <td>Other</td>\n",
       "      <td>2</td>\n",
       "      <td>500-999</td>\n",
       "      <td>Public Sector</td>\n",
       "      <td>2</td>\n",
       "      <td>154</td>\n",
       "      <td>1.0</td>\n",
       "    </tr>\n",
       "    <tr>\n",
       "      <th>17701</th>\n",
       "      <td>24256</td>\n",
       "      <td>2</td>\n",
       "      <td>0.448</td>\n",
       "      <td>Male</td>\n",
       "      <td>No relevent experience</td>\n",
       "      <td>no_enrollment</td>\n",
       "      <td>Graduate</td>\n",
       "      <td>STEM</td>\n",
       "      <td>4</td>\n",
       "      <td>10/49</td>\n",
       "      <td>Public Sector</td>\n",
       "      <td>1</td>\n",
       "      <td>44</td>\n",
       "      <td>1.0</td>\n",
       "    </tr>\n",
       "    <tr>\n",
       "      <th>18065</th>\n",
       "      <td>16548</td>\n",
       "      <td>2</td>\n",
       "      <td>0.448</td>\n",
       "      <td>NaN</td>\n",
       "      <td>No relevent experience</td>\n",
       "      <td>Full time course</td>\n",
       "      <td>Graduate</td>\n",
       "      <td>STEM</td>\n",
       "      <td>&lt;1</td>\n",
       "      <td>1000-4999</td>\n",
       "      <td>Public Sector</td>\n",
       "      <td>NaN</td>\n",
       "      <td>15</td>\n",
       "      <td>1.0</td>\n",
       "    </tr>\n",
       "  </tbody>\n",
       "</table>\n",
       "</div>"
      ],
      "text/plain": [
       "       enrollee_id  city  city_development_index gender  \\\n",
       "1523          8238     2                   0.448    NaN   \n",
       "4744         30985     2                   0.448    NaN   \n",
       "5010         27970     2                   0.448   Male   \n",
       "5265         31194     2                   0.448    NaN   \n",
       "5567           598     2                   0.448    NaN   \n",
       "6127         18564     2                   0.448    NaN   \n",
       "7724         31179     2                   0.448   Male   \n",
       "7864         26838     2                   0.448   Male   \n",
       "9134          4858     2                   0.448    NaN   \n",
       "10401        19463     2                   0.448   Male   \n",
       "13549        28317     2                   0.448    NaN   \n",
       "14913         3891     2                   0.448   Male   \n",
       "15114         4776     2                   0.448    NaN   \n",
       "16555        30131     2                   0.448   Male   \n",
       "16784        10486     2                   0.448    NaN   \n",
       "17701        24256     2                   0.448   Male   \n",
       "18065        16548     2                   0.448    NaN   \n",
       "\n",
       "           relevent_experience enrolled_university education_level  \\\n",
       "1523   Has relevent experience    Part time course        Graduate   \n",
       "4744    No relevent experience    Full time course        Graduate   \n",
       "5010    No relevent experience       no_enrollment        Graduate   \n",
       "5265    No relevent experience                 NaN     High School   \n",
       "5567   Has relevent experience    Part time course         Masters   \n",
       "6127    No relevent experience    Full time course        Graduate   \n",
       "7724   Has relevent experience       no_enrollment        Graduate   \n",
       "7864   Has relevent experience       no_enrollment        Graduate   \n",
       "9134    No relevent experience    Part time course         Masters   \n",
       "10401   No relevent experience       no_enrollment        Graduate   \n",
       "13549  Has relevent experience       no_enrollment        Graduate   \n",
       "14913   No relevent experience    Full time course     High School   \n",
       "15114   No relevent experience    Full time course         Masters   \n",
       "16555  Has relevent experience       no_enrollment        Graduate   \n",
       "16784   No relevent experience    Full time course        Graduate   \n",
       "17701   No relevent experience       no_enrollment        Graduate   \n",
       "18065   No relevent experience    Full time course        Graduate   \n",
       "\n",
       "      major_discipline experience company_size   company_type last_new_job  \\\n",
       "1523              STEM         10        50-99            NGO           >4   \n",
       "4744              STEM          2          NaN            NaN        never   \n",
       "5010              STEM          1          NaN            NaN        never   \n",
       "5265               NaN          5          NaN        Pvt Ltd        never   \n",
       "5567              STEM          6          NaN            NaN            1   \n",
       "6127              STEM          4          NaN  Public Sector            4   \n",
       "7724              STEM          7        50-99        Pvt Ltd            1   \n",
       "7864              STEM          8          NaN            NaN           >4   \n",
       "9134             Other          2          <10            NGO            1   \n",
       "10401             STEM          5       10000+        Pvt Ltd            2   \n",
       "13549             STEM          8        10/49        Pvt Ltd            2   \n",
       "14913              NaN          4          NaN            NaN        never   \n",
       "15114             STEM          4          NaN        Pvt Ltd        never   \n",
       "16555             STEM          4      100-500        Pvt Ltd            1   \n",
       "16784            Other          2      500-999  Public Sector            2   \n",
       "17701             STEM          4        10/49  Public Sector            1   \n",
       "18065             STEM         <1    1000-4999  Public Sector          NaN   \n",
       "\n",
       "       training_hours  target  \n",
       "1523               48     1.0  \n",
       "4744               43     1.0  \n",
       "5010               73     1.0  \n",
       "5265               86     1.0  \n",
       "5567               18     1.0  \n",
       "6127               32     1.0  \n",
       "7724               28     0.0  \n",
       "7864               74     0.0  \n",
       "9134               23     1.0  \n",
       "10401              36     0.0  \n",
       "13549              14     0.0  \n",
       "14913              31     0.0  \n",
       "15114              66     1.0  \n",
       "16555              16     0.0  \n",
       "16784             154     1.0  \n",
       "17701              44     1.0  \n",
       "18065              15     1.0  "
      ]
     },
     "execution_count": 254,
     "metadata": {},
     "output_type": "execute_result"
    }
   ],
   "source": [
    "# List out all the outlier\n",
    "q1 = np.quantile(df['city_development_index'], 0.25)\n",
    "q3 = np.quantile(df['city_development_index'], 0.75)\n",
    "# finding the iqr region\n",
    "iqr = q3-q1\n",
    "# finding upper and lower whiskers\n",
    "upper_bound = q3+(1.5*iqr)\n",
    "lower_bound = q1-(1.5*iqr)\n",
    "print(iqr, upper_bound, lower_bound)\n",
    "\n",
    "df.loc[(df['city_development_index']<=lower_bound)|(df['city_development_index']>=upper_bound)]"
   ]
  },
  {
   "cell_type": "code",
   "execution_count": 255,
   "id": "11f19de0",
   "metadata": {},
   "outputs": [],
   "source": [
    "## Summary: No need to normalize as only 17 records has relatively low number to overall"
   ]
  },
  {
   "cell_type": "code",
   "execution_count": 256,
   "id": "84417a92",
   "metadata": {},
   "outputs": [],
   "source": [
    "# if there's a need to bin\n",
    "# df['city_development_index_category']  =  pd.cut(df['city_development_index'], \n",
    "#                                     bins=[0.4,0.5,0.6,0.7,0.8,0.9,np.inf],\n",
    "#                                     labels=['0.4-0.5','0.5-0.6','0.6-0.7','0.7-0.8','0.8-0.9','0.9+'])\n",
    "\n",
    "\n",
    "# df['city_development_index_category'].value_counts()"
   ]
  },
  {
   "cell_type": "markdown",
   "id": "aedeaffa",
   "metadata": {},
   "source": [
    "#### gender"
   ]
  },
  {
   "cell_type": "code",
   "execution_count": 257,
   "id": "6a578779",
   "metadata": {},
   "outputs": [
    {
     "data": {
      "text/plain": [
       "Male      13185\n",
       "Female     1237\n",
       "Other       186\n",
       "Name: gender, dtype: int64"
      ]
     },
     "execution_count": 257,
     "metadata": {},
     "output_type": "execute_result"
    }
   ],
   "source": [
    "# missing value : what action?\n",
    "df.gender.value_counts()"
   ]
  },
  {
   "cell_type": "code",
   "execution_count": 258,
   "id": "4d577a0b",
   "metadata": {
    "scrolled": true
   },
   "outputs": [
    {
     "data": {
      "text/plain": [
       "<AxesSubplot:xlabel='enrolled_university,education_level,major_discipline'>"
      ]
     },
     "execution_count": 258,
     "metadata": {},
     "output_type": "execute_result"
    },
    {
     "data": {
      "image/png": "[encoded data removed]",
      "text/plain": [
       "<Figure size 576x360 with 1 Axes>"
      ]
     },
     "metadata": {
      "needs_background": "light"
     },
     "output_type": "display_data"
    }
   ],
   "source": [
    "# show the counts of each group when gender is 'Other'\n",
    "group = df[df['gender']=='Other'].groupby(['enrolled_university', 'education_level', 'major_discipline']).size()\n",
    "figure(figsize=(8,5))\n",
    "group.plot.bar()"
   ]
  },
  {
   "cell_type": "code",
   "execution_count": 259,
   "id": "6f0dcb28",
   "metadata": {},
   "outputs": [
    {
     "data": {
      "text/plain": [
       "<AxesSubplot:xlabel='enrolled_university,education_level,major_discipline'>"
      ]
     },
     "execution_count": 259,
     "metadata": {},
     "output_type": "execute_result"
    },
    {
     "data": {
      "image/png": "[encoded data removed]",
      "text/plain": [
       "<Figure size 576x360 with 1 Axes>"
      ]
     },
     "metadata": {
      "needs_background": "light"
     },
     "output_type": "display_data"
    }
   ],
   "source": [
    "# show the counts of each group when gender is null \n",
    "group = df[df['gender'].isna()].groupby(['enrolled_university', 'education_level', 'major_discipline']).size()\n",
    "figure(figsize=(8,5))\n",
    "group.plot.bar()\n"
   ]
  },
  {
   "cell_type": "code",
   "execution_count": 260,
   "id": "d6f6e290",
   "metadata": {},
   "outputs": [],
   "source": [
    "# replace the null value of gender to 'Other'\n",
    "df['gender'].fillna('Other' ,inplace=True)"
   ]
  },
  {
   "cell_type": "code",
   "execution_count": 261,
   "id": "9f4a16f5",
   "metadata": {},
   "outputs": [
    {
     "data": {
      "text/plain": [
       "<AxesSubplot:>"
      ]
     },
     "execution_count": 261,
     "metadata": {},
     "output_type": "execute_result"
    },
    {
     "data": {
      "image/png": "[encoded data removed]",
      "text/plain": [
       "<Figure size 432x288 with 1 Axes>"
      ]
     },
     "metadata": {
      "needs_background": "light"
     },
     "output_type": "display_data"
    }
   ],
   "source": [
    "df['gender'].value_counts(normalize=True).plot(kind='bar')\n",
    "\n",
    "\n",
    "plt.title(f\"{col_name} Distribution\")  ## new version\n",
    "\n",
    "plt.title(\"{} Distribution\".format(col_name))  ## old version"
   ]
  },
  {
   "cell_type": "code",
   "execution_count": 391,
   "id": "dc7f5af7",
   "metadata": {},
   "outputs": [
    {
     "data": {
      "text/plain": [
       "<AxesSubplot:>"
      ]
     },
     "execution_count": 391,
     "metadata": {},
     "output_type": "execute_result"
    },
    {
     "data": {
      "image/png": "[encoded data removed]",
      "text/plain": [
       "<Figure size 432x288 with 1 Axes>"
      ]
     },
     "metadata": {
      "needs_background": "light"
     },
     "output_type": "display_data"
    }
   ],
   "source": [
    "df_raw['gender'].value_counts().plot(kind='bar')"
   ]
  },
  {
   "cell_type": "code",
   "execution_count": 262,
   "id": "0fdac2b3",
   "metadata": {},
   "outputs": [],
   "source": [
    "# One - Hot encoding \n",
    "gender_ohe = pd.get_dummies(df.gender, prefix='gender')\n",
    "\n",
    "#merge one-hot encoded columns back with original DataFrame\n",
    "df = df.loc[:, df.columns != 'gender'].join(gender_ohe)\n",
    "\n",
    "#### Label Encoding\n",
    "# le_gender = LabelEncoder().fit(df['gender'])\n",
    "# df['gender'] = le_gender.transform(df['gender'])\n",
    "# # Keep the record of labeling\n",
    "# dict(zip(le_gender.classes_, le_gender.transform(le_gender.classes_)))"
   ]
  },
  {
   "cell_type": "code",
   "execution_count": 263,
   "id": "6ac16835",
   "metadata": {},
   "outputs": [],
   "source": [
    "######## TODO: when gender is null, other column is null, how many is like that? is it work to impute, or remove instead?\n"
   ]
  },
  {
   "cell_type": "markdown",
   "id": "66f078b6",
   "metadata": {},
   "source": [
    "#### relevent_experience"
   ]
  },
  {
   "cell_type": "code",
   "execution_count": 264,
   "id": "323f3267",
   "metadata": {},
   "outputs": [
    {
     "data": {
      "text/plain": [
       "Has relevent experience    13734\n",
       "No relevent experience      5174\n",
       "Name: relevent_experience, dtype: int64"
      ]
     },
     "execution_count": 264,
     "metadata": {},
     "output_type": "execute_result"
    }
   ],
   "source": [
    "# convert to binary 0 and 1\n",
    "df.relevent_experience.value_counts(dropna=False)"
   ]
  },
  {
   "cell_type": "code",
   "execution_count": 265,
   "id": "ec3e9cfe",
   "metadata": {},
   "outputs": [
    {
     "data": {
      "text/plain": [
       "array([0, 1, 1, ..., 0, 0, 1])"
      ]
     },
     "execution_count": 265,
     "metadata": {},
     "output_type": "execute_result"
    }
   ],
   "source": [
    "le = preprocessing.LabelEncoder()\n",
    "le.fit_transform(df['relevent_experience'])"
   ]
  },
  {
   "cell_type": "code",
   "execution_count": 266,
   "id": "8124d91f",
   "metadata": {},
   "outputs": [],
   "source": [
    "df['relevent_experience']=le.fit_transform(df['relevent_experience'])"
   ]
  },
  {
   "cell_type": "code",
   "execution_count": 267,
   "id": "27bc1df1",
   "metadata": {},
   "outputs": [
    {
     "data": {
      "text/plain": [
       "{'Has relevent experience': 0, 'No relevent experience': 1}"
      ]
     },
     "execution_count": 267,
     "metadata": {},
     "output_type": "execute_result"
    }
   ],
   "source": [
    "# create a label encoding reference \n",
    "dict(zip(le.classes_,le.transform(le.classes_))) # zip aggregate two list into a tuple"
   ]
  },
  {
   "cell_type": "code",
   "execution_count": 268,
   "id": "04890b17",
   "metadata": {},
   "outputs": [
    {
     "data": {
      "text/html": [
       "<div>\n",
       "<style scoped>\n",
       "    .dataframe tbody tr th:only-of-type {\n",
       "        vertical-align: middle;\n",
       "    }\n",
       "\n",
       "    .dataframe tbody tr th {\n",
       "        vertical-align: top;\n",
       "    }\n",
       "\n",
       "    .dataframe thead th {\n",
       "        text-align: right;\n",
       "    }\n",
       "</style>\n",
       "<table border=\"1\" class=\"dataframe\">\n",
       "  <thead>\n",
       "    <tr style=\"text-align: right;\">\n",
       "      <th></th>\n",
       "      <th>enrollee_id</th>\n",
       "      <th>city</th>\n",
       "      <th>city_development_index</th>\n",
       "      <th>relevent_experience</th>\n",
       "      <th>enrolled_university</th>\n",
       "      <th>education_level</th>\n",
       "      <th>major_discipline</th>\n",
       "      <th>experience</th>\n",
       "      <th>company_size</th>\n",
       "      <th>company_type</th>\n",
       "      <th>last_new_job</th>\n",
       "      <th>training_hours</th>\n",
       "      <th>target</th>\n",
       "      <th>gender_Female</th>\n",
       "      <th>gender_Male</th>\n",
       "      <th>gender_Other</th>\n",
       "    </tr>\n",
       "  </thead>\n",
       "  <tbody>\n",
       "    <tr>\n",
       "      <th>0</th>\n",
       "      <td>8949</td>\n",
       "      <td>3</td>\n",
       "      <td>0.920</td>\n",
       "      <td>0</td>\n",
       "      <td>no_enrollment</td>\n",
       "      <td>Graduate</td>\n",
       "      <td>STEM</td>\n",
       "      <td>&gt;20</td>\n",
       "      <td>NaN</td>\n",
       "      <td>NaN</td>\n",
       "      <td>1</td>\n",
       "      <td>36</td>\n",
       "      <td>1.0</td>\n",
       "      <td>0</td>\n",
       "      <td>1</td>\n",
       "      <td>0</td>\n",
       "    </tr>\n",
       "    <tr>\n",
       "      <th>1</th>\n",
       "      <td>29725</td>\n",
       "      <td>1</td>\n",
       "      <td>0.776</td>\n",
       "      <td>1</td>\n",
       "      <td>no_enrollment</td>\n",
       "      <td>Graduate</td>\n",
       "      <td>STEM</td>\n",
       "      <td>15</td>\n",
       "      <td>50-99</td>\n",
       "      <td>Pvt Ltd</td>\n",
       "      <td>&gt;4</td>\n",
       "      <td>47</td>\n",
       "      <td>0.0</td>\n",
       "      <td>0</td>\n",
       "      <td>1</td>\n",
       "      <td>0</td>\n",
       "    </tr>\n",
       "    <tr>\n",
       "      <th>2</th>\n",
       "      <td>11561</td>\n",
       "      <td>3</td>\n",
       "      <td>0.624</td>\n",
       "      <td>1</td>\n",
       "      <td>Full time course</td>\n",
       "      <td>Graduate</td>\n",
       "      <td>STEM</td>\n",
       "      <td>5</td>\n",
       "      <td>NaN</td>\n",
       "      <td>NaN</td>\n",
       "      <td>never</td>\n",
       "      <td>83</td>\n",
       "      <td>0.0</td>\n",
       "      <td>0</td>\n",
       "      <td>0</td>\n",
       "      <td>1</td>\n",
       "    </tr>\n",
       "    <tr>\n",
       "      <th>3</th>\n",
       "      <td>33241</td>\n",
       "      <td>1</td>\n",
       "      <td>0.789</td>\n",
       "      <td>1</td>\n",
       "      <td>NaN</td>\n",
       "      <td>Graduate</td>\n",
       "      <td>Business Degree</td>\n",
       "      <td>&lt;1</td>\n",
       "      <td>NaN</td>\n",
       "      <td>Pvt Ltd</td>\n",
       "      <td>never</td>\n",
       "      <td>52</td>\n",
       "      <td>1.0</td>\n",
       "      <td>0</td>\n",
       "      <td>0</td>\n",
       "      <td>1</td>\n",
       "    </tr>\n",
       "    <tr>\n",
       "      <th>4</th>\n",
       "      <td>666</td>\n",
       "      <td>0</td>\n",
       "      <td>0.767</td>\n",
       "      <td>0</td>\n",
       "      <td>no_enrollment</td>\n",
       "      <td>Masters</td>\n",
       "      <td>STEM</td>\n",
       "      <td>&gt;20</td>\n",
       "      <td>50-99</td>\n",
       "      <td>Funded Startup</td>\n",
       "      <td>4</td>\n",
       "      <td>8</td>\n",
       "      <td>0.0</td>\n",
       "      <td>0</td>\n",
       "      <td>1</td>\n",
       "      <td>0</td>\n",
       "    </tr>\n",
       "    <tr>\n",
       "      <th>...</th>\n",
       "      <td>...</td>\n",
       "      <td>...</td>\n",
       "      <td>...</td>\n",
       "      <td>...</td>\n",
       "      <td>...</td>\n",
       "      <td>...</td>\n",
       "      <td>...</td>\n",
       "      <td>...</td>\n",
       "      <td>...</td>\n",
       "      <td>...</td>\n",
       "      <td>...</td>\n",
       "      <td>...</td>\n",
       "      <td>...</td>\n",
       "      <td>...</td>\n",
       "      <td>...</td>\n",
       "      <td>...</td>\n",
       "    </tr>\n",
       "    <tr>\n",
       "      <th>19153</th>\n",
       "      <td>7386</td>\n",
       "      <td>0</td>\n",
       "      <td>0.878</td>\n",
       "      <td>1</td>\n",
       "      <td>no_enrollment</td>\n",
       "      <td>Graduate</td>\n",
       "      <td>Humanities</td>\n",
       "      <td>14</td>\n",
       "      <td>NaN</td>\n",
       "      <td>NaN</td>\n",
       "      <td>1</td>\n",
       "      <td>42</td>\n",
       "      <td>1.0</td>\n",
       "      <td>0</td>\n",
       "      <td>1</td>\n",
       "      <td>0</td>\n",
       "    </tr>\n",
       "    <tr>\n",
       "      <th>19154</th>\n",
       "      <td>31398</td>\n",
       "      <td>3</td>\n",
       "      <td>0.920</td>\n",
       "      <td>0</td>\n",
       "      <td>no_enrollment</td>\n",
       "      <td>Graduate</td>\n",
       "      <td>STEM</td>\n",
       "      <td>14</td>\n",
       "      <td>NaN</td>\n",
       "      <td>NaN</td>\n",
       "      <td>4</td>\n",
       "      <td>52</td>\n",
       "      <td>1.0</td>\n",
       "      <td>0</td>\n",
       "      <td>1</td>\n",
       "      <td>0</td>\n",
       "    </tr>\n",
       "    <tr>\n",
       "      <th>19155</th>\n",
       "      <td>24576</td>\n",
       "      <td>3</td>\n",
       "      <td>0.920</td>\n",
       "      <td>0</td>\n",
       "      <td>no_enrollment</td>\n",
       "      <td>Graduate</td>\n",
       "      <td>STEM</td>\n",
       "      <td>&gt;20</td>\n",
       "      <td>50-99</td>\n",
       "      <td>Pvt Ltd</td>\n",
       "      <td>4</td>\n",
       "      <td>44</td>\n",
       "      <td>0.0</td>\n",
       "      <td>0</td>\n",
       "      <td>1</td>\n",
       "      <td>0</td>\n",
       "    </tr>\n",
       "    <tr>\n",
       "      <th>19156</th>\n",
       "      <td>5756</td>\n",
       "      <td>0</td>\n",
       "      <td>0.802</td>\n",
       "      <td>0</td>\n",
       "      <td>no_enrollment</td>\n",
       "      <td>High School</td>\n",
       "      <td>NaN</td>\n",
       "      <td>&lt;1</td>\n",
       "      <td>500-999</td>\n",
       "      <td>Pvt Ltd</td>\n",
       "      <td>2</td>\n",
       "      <td>97</td>\n",
       "      <td>0.0</td>\n",
       "      <td>0</td>\n",
       "      <td>1</td>\n",
       "      <td>0</td>\n",
       "    </tr>\n",
       "    <tr>\n",
       "      <th>19157</th>\n",
       "      <td>23834</td>\n",
       "      <td>3</td>\n",
       "      <td>0.855</td>\n",
       "      <td>1</td>\n",
       "      <td>no_enrollment</td>\n",
       "      <td>Primary School</td>\n",
       "      <td>NaN</td>\n",
       "      <td>2</td>\n",
       "      <td>NaN</td>\n",
       "      <td>NaN</td>\n",
       "      <td>1</td>\n",
       "      <td>127</td>\n",
       "      <td>0.0</td>\n",
       "      <td>0</td>\n",
       "      <td>0</td>\n",
       "      <td>1</td>\n",
       "    </tr>\n",
       "  </tbody>\n",
       "</table>\n",
       "<p>18908 rows × 16 columns</p>\n",
       "</div>"
      ],
      "text/plain": [
       "       enrollee_id  city  city_development_index  relevent_experience  \\\n",
       "0             8949     3                   0.920                    0   \n",
       "1            29725     1                   0.776                    1   \n",
       "2            11561     3                   0.624                    1   \n",
       "3            33241     1                   0.789                    1   \n",
       "4              666     0                   0.767                    0   \n",
       "...            ...   ...                     ...                  ...   \n",
       "19153         7386     0                   0.878                    1   \n",
       "19154        31398     3                   0.920                    0   \n",
       "19155        24576     3                   0.920                    0   \n",
       "19156         5756     0                   0.802                    0   \n",
       "19157        23834     3                   0.855                    1   \n",
       "\n",
       "      enrolled_university education_level major_discipline experience  \\\n",
       "0           no_enrollment        Graduate             STEM        >20   \n",
       "1           no_enrollment        Graduate             STEM         15   \n",
       "2        Full time course        Graduate             STEM          5   \n",
       "3                     NaN        Graduate  Business Degree         <1   \n",
       "4           no_enrollment         Masters             STEM        >20   \n",
       "...                   ...             ...              ...        ...   \n",
       "19153       no_enrollment        Graduate       Humanities         14   \n",
       "19154       no_enrollment        Graduate             STEM         14   \n",
       "19155       no_enrollment        Graduate             STEM        >20   \n",
       "19156       no_enrollment     High School              NaN         <1   \n",
       "19157       no_enrollment  Primary School              NaN          2   \n",
       "\n",
       "      company_size    company_type last_new_job  training_hours  target  \\\n",
       "0              NaN             NaN            1              36     1.0   \n",
       "1            50-99         Pvt Ltd           >4              47     0.0   \n",
       "2              NaN             NaN        never              83     0.0   \n",
       "3              NaN         Pvt Ltd        never              52     1.0   \n",
       "4            50-99  Funded Startup            4               8     0.0   \n",
       "...            ...             ...          ...             ...     ...   \n",
       "19153          NaN             NaN            1              42     1.0   \n",
       "19154          NaN             NaN            4              52     1.0   \n",
       "19155        50-99         Pvt Ltd            4              44     0.0   \n",
       "19156      500-999         Pvt Ltd            2              97     0.0   \n",
       "19157          NaN             NaN            1             127     0.0   \n",
       "\n",
       "       gender_Female  gender_Male  gender_Other  \n",
       "0                  0            1             0  \n",
       "1                  0            1             0  \n",
       "2                  0            0             1  \n",
       "3                  0            0             1  \n",
       "4                  0            1             0  \n",
       "...              ...          ...           ...  \n",
       "19153              0            1             0  \n",
       "19154              0            1             0  \n",
       "19155              0            1             0  \n",
       "19156              0            1             0  \n",
       "19157              0            0             1  \n",
       "\n",
       "[18908 rows x 16 columns]"
      ]
     },
     "execution_count": 268,
     "metadata": {},
     "output_type": "execute_result"
    }
   ],
   "source": [
    "df"
   ]
  },
  {
   "cell_type": "markdown",
   "id": "93237e6a",
   "metadata": {},
   "source": [
    "#### enrolled_university"
   ]
  },
  {
   "cell_type": "code",
   "execution_count": 269,
   "id": "5c1f1b16",
   "metadata": {},
   "outputs": [
    {
     "data": {
      "text/plain": [
       "no_enrollment       0.726095\n",
       "Full time course    0.196689\n",
       "Part time course    0.062883\n",
       "NaN                 0.014333\n",
       "Name: enrolled_university, dtype: float64"
      ]
     },
     "execution_count": 269,
     "metadata": {},
     "output_type": "execute_result"
    }
   ],
   "source": [
    "df.enrolled_university.value_counts(dropna=False,normalize=True)"
   ]
  },
  {
   "cell_type": "code",
   "execution_count": 270,
   "id": "8dfdc61b",
   "metadata": {},
   "outputs": [
    {
     "data": {
      "text/plain": [
       "<AxesSubplot:>"
      ]
     },
     "execution_count": 270,
     "metadata": {},
     "output_type": "execute_result"
    },
    {
     "data": {
      "image/png": "[encoded data removed]",
      "text/plain": [
       "<Figure size 432x288 with 1 Axes>"
      ]
     },
     "metadata": {
      "needs_background": "light"
     },
     "output_type": "display_data"
    }
   ],
   "source": [
    "######## TODO: 1. imputation null as a new value'unknown' , remove due to other column are also null value\n",
    "######## draw a chart to show missing value per row \n",
    "sns.heatmap(df.isnull(), cbar=False)\n"
   ]
  },
  {
   "cell_type": "code",
   "execution_count": 271,
   "id": "e21ed3aa",
   "metadata": {},
   "outputs": [],
   "source": [
    "# replace the null value of enrolled_univeristy to 'Unknown'\n",
    "df['enrolled_university'].fillna('Unknown' ,inplace=True)"
   ]
  },
  {
   "cell_type": "code",
   "execution_count": 272,
   "id": "17be748d",
   "metadata": {},
   "outputs": [
    {
     "data": {
      "text/plain": [
       "no_enrollment       0.726095\n",
       "Full time course    0.196689\n",
       "Part time course    0.062883\n",
       "Unknown             0.014333\n",
       "Name: enrolled_university, dtype: float64"
      ]
     },
     "execution_count": 272,
     "metadata": {},
     "output_type": "execute_result"
    }
   ],
   "source": [
    "# show percentage of all value (includign null value)\n",
    "df.enrolled_university.value_counts(dropna=False,normalize=True)"
   ]
  },
  {
   "cell_type": "code",
   "execution_count": 273,
   "id": "f397ac6d",
   "metadata": {},
   "outputs": [
    {
     "data": {
      "text/plain": [
       "{'Full time course': 0,\n",
       " 'Part time course': 1,\n",
       " 'Unknown': 2,\n",
       " 'no_enrollment': 3}"
      ]
     },
     "execution_count": 273,
     "metadata": {},
     "output_type": "execute_result"
    }
   ],
   "source": [
    "le_enrolled_university = LabelEncoder().fit(df['enrolled_university'])\n",
    "df['enrolled_university'] = le_enrolled_university.transform(df['enrolled_university'])\n",
    "# Keep the record of labeling\n",
    "dict(zip(le_enrolled_university.classes_, le_enrolled_university.transform(le_enrolled_university.classes_)))"
   ]
  },
  {
   "cell_type": "code",
   "execution_count": 274,
   "id": "93b22be4",
   "metadata": {},
   "outputs": [
    {
     "data": {
      "text/plain": [
       "<AxesSubplot:xlabel='enrolled_university', ylabel='count'>"
      ]
     },
     "execution_count": 274,
     "metadata": {},
     "output_type": "execute_result"
    },
    {
     "data": {
      "image/png": "[encoded data removed]",
      "text/plain": [
       "<Figure size 432x288 with 1 Axes>"
      ]
     },
     "metadata": {
      "needs_background": "light"
     },
     "output_type": "display_data"
    }
   ],
   "source": [
    "sns.countplot(x='enrolled_university',data=df)"
   ]
  },
  {
   "cell_type": "markdown",
   "id": "39999cf0",
   "metadata": {},
   "source": [
    "#### education_level"
   ]
  },
  {
   "cell_type": "code",
   "execution_count": 275,
   "id": "89539a5b",
   "metadata": {},
   "outputs": [
    {
     "data": {
      "text/plain": [
       "{'Graduate': 0,\n",
       " 'High School': 1,\n",
       " 'Masters': 2,\n",
       " 'Phd': 3,\n",
       " 'Primary School': 4,\n",
       " nan: 5}"
      ]
     },
     "execution_count": 275,
     "metadata": {},
     "output_type": "execute_result"
    }
   ],
   "source": [
    "le_education_level = LabelEncoder().fit(df['education_level'])\n",
    "df['education_level'] = le_education_level.transform(df['education_level'])\n",
    "# Keep the record of labeling\n",
    "dict(zip(le_education_level.classes_, le_education_level.transform(le_education_level.classes_)))"
   ]
  },
  {
   "cell_type": "code",
   "execution_count": 276,
   "id": "dfa3614a",
   "metadata": {
    "scrolled": true
   },
   "outputs": [
    {
     "data": {
      "text/html": [
       "<div>\n",
       "<style scoped>\n",
       "    .dataframe tbody tr th:only-of-type {\n",
       "        vertical-align: middle;\n",
       "    }\n",
       "\n",
       "    .dataframe tbody tr th {\n",
       "        vertical-align: top;\n",
       "    }\n",
       "\n",
       "    .dataframe thead th {\n",
       "        text-align: right;\n",
       "    }\n",
       "</style>\n",
       "<table border=\"1\" class=\"dataframe\">\n",
       "  <thead>\n",
       "    <tr style=\"text-align: right;\">\n",
       "      <th></th>\n",
       "      <th>enrollee_id</th>\n",
       "      <th>city</th>\n",
       "      <th>city_development_index</th>\n",
       "      <th>relevent_experience</th>\n",
       "      <th>enrolled_university</th>\n",
       "      <th>education_level</th>\n",
       "      <th>major_discipline</th>\n",
       "      <th>experience</th>\n",
       "      <th>company_size</th>\n",
       "      <th>company_type</th>\n",
       "      <th>last_new_job</th>\n",
       "      <th>training_hours</th>\n",
       "      <th>target</th>\n",
       "      <th>gender_Female</th>\n",
       "      <th>gender_Male</th>\n",
       "      <th>gender_Other</th>\n",
       "    </tr>\n",
       "  </thead>\n",
       "  <tbody>\n",
       "    <tr>\n",
       "      <th>0</th>\n",
       "      <td>8949</td>\n",
       "      <td>3</td>\n",
       "      <td>0.920</td>\n",
       "      <td>0</td>\n",
       "      <td>3</td>\n",
       "      <td>0</td>\n",
       "      <td>STEM</td>\n",
       "      <td>&gt;20</td>\n",
       "      <td>NaN</td>\n",
       "      <td>NaN</td>\n",
       "      <td>1</td>\n",
       "      <td>36</td>\n",
       "      <td>1.0</td>\n",
       "      <td>0</td>\n",
       "      <td>1</td>\n",
       "      <td>0</td>\n",
       "    </tr>\n",
       "    <tr>\n",
       "      <th>1</th>\n",
       "      <td>29725</td>\n",
       "      <td>1</td>\n",
       "      <td>0.776</td>\n",
       "      <td>1</td>\n",
       "      <td>3</td>\n",
       "      <td>0</td>\n",
       "      <td>STEM</td>\n",
       "      <td>15</td>\n",
       "      <td>50-99</td>\n",
       "      <td>Pvt Ltd</td>\n",
       "      <td>&gt;4</td>\n",
       "      <td>47</td>\n",
       "      <td>0.0</td>\n",
       "      <td>0</td>\n",
       "      <td>1</td>\n",
       "      <td>0</td>\n",
       "    </tr>\n",
       "    <tr>\n",
       "      <th>2</th>\n",
       "      <td>11561</td>\n",
       "      <td>3</td>\n",
       "      <td>0.624</td>\n",
       "      <td>1</td>\n",
       "      <td>0</td>\n",
       "      <td>0</td>\n",
       "      <td>STEM</td>\n",
       "      <td>5</td>\n",
       "      <td>NaN</td>\n",
       "      <td>NaN</td>\n",
       "      <td>never</td>\n",
       "      <td>83</td>\n",
       "      <td>0.0</td>\n",
       "      <td>0</td>\n",
       "      <td>0</td>\n",
       "      <td>1</td>\n",
       "    </tr>\n",
       "    <tr>\n",
       "      <th>3</th>\n",
       "      <td>33241</td>\n",
       "      <td>1</td>\n",
       "      <td>0.789</td>\n",
       "      <td>1</td>\n",
       "      <td>2</td>\n",
       "      <td>0</td>\n",
       "      <td>Business Degree</td>\n",
       "      <td>&lt;1</td>\n",
       "      <td>NaN</td>\n",
       "      <td>Pvt Ltd</td>\n",
       "      <td>never</td>\n",
       "      <td>52</td>\n",
       "      <td>1.0</td>\n",
       "      <td>0</td>\n",
       "      <td>0</td>\n",
       "      <td>1</td>\n",
       "    </tr>\n",
       "    <tr>\n",
       "      <th>4</th>\n",
       "      <td>666</td>\n",
       "      <td>0</td>\n",
       "      <td>0.767</td>\n",
       "      <td>0</td>\n",
       "      <td>3</td>\n",
       "      <td>2</td>\n",
       "      <td>STEM</td>\n",
       "      <td>&gt;20</td>\n",
       "      <td>50-99</td>\n",
       "      <td>Funded Startup</td>\n",
       "      <td>4</td>\n",
       "      <td>8</td>\n",
       "      <td>0.0</td>\n",
       "      <td>0</td>\n",
       "      <td>1</td>\n",
       "      <td>0</td>\n",
       "    </tr>\n",
       "    <tr>\n",
       "      <th>...</th>\n",
       "      <td>...</td>\n",
       "      <td>...</td>\n",
       "      <td>...</td>\n",
       "      <td>...</td>\n",
       "      <td>...</td>\n",
       "      <td>...</td>\n",
       "      <td>...</td>\n",
       "      <td>...</td>\n",
       "      <td>...</td>\n",
       "      <td>...</td>\n",
       "      <td>...</td>\n",
       "      <td>...</td>\n",
       "      <td>...</td>\n",
       "      <td>...</td>\n",
       "      <td>...</td>\n",
       "      <td>...</td>\n",
       "    </tr>\n",
       "    <tr>\n",
       "      <th>19153</th>\n",
       "      <td>7386</td>\n",
       "      <td>0</td>\n",
       "      <td>0.878</td>\n",
       "      <td>1</td>\n",
       "      <td>3</td>\n",
       "      <td>0</td>\n",
       "      <td>Humanities</td>\n",
       "      <td>14</td>\n",
       "      <td>NaN</td>\n",
       "      <td>NaN</td>\n",
       "      <td>1</td>\n",
       "      <td>42</td>\n",
       "      <td>1.0</td>\n",
       "      <td>0</td>\n",
       "      <td>1</td>\n",
       "      <td>0</td>\n",
       "    </tr>\n",
       "    <tr>\n",
       "      <th>19154</th>\n",
       "      <td>31398</td>\n",
       "      <td>3</td>\n",
       "      <td>0.920</td>\n",
       "      <td>0</td>\n",
       "      <td>3</td>\n",
       "      <td>0</td>\n",
       "      <td>STEM</td>\n",
       "      <td>14</td>\n",
       "      <td>NaN</td>\n",
       "      <td>NaN</td>\n",
       "      <td>4</td>\n",
       "      <td>52</td>\n",
       "      <td>1.0</td>\n",
       "      <td>0</td>\n",
       "      <td>1</td>\n",
       "      <td>0</td>\n",
       "    </tr>\n",
       "    <tr>\n",
       "      <th>19155</th>\n",
       "      <td>24576</td>\n",
       "      <td>3</td>\n",
       "      <td>0.920</td>\n",
       "      <td>0</td>\n",
       "      <td>3</td>\n",
       "      <td>0</td>\n",
       "      <td>STEM</td>\n",
       "      <td>&gt;20</td>\n",
       "      <td>50-99</td>\n",
       "      <td>Pvt Ltd</td>\n",
       "      <td>4</td>\n",
       "      <td>44</td>\n",
       "      <td>0.0</td>\n",
       "      <td>0</td>\n",
       "      <td>1</td>\n",
       "      <td>0</td>\n",
       "    </tr>\n",
       "    <tr>\n",
       "      <th>19156</th>\n",
       "      <td>5756</td>\n",
       "      <td>0</td>\n",
       "      <td>0.802</td>\n",
       "      <td>0</td>\n",
       "      <td>3</td>\n",
       "      <td>1</td>\n",
       "      <td>NaN</td>\n",
       "      <td>&lt;1</td>\n",
       "      <td>500-999</td>\n",
       "      <td>Pvt Ltd</td>\n",
       "      <td>2</td>\n",
       "      <td>97</td>\n",
       "      <td>0.0</td>\n",
       "      <td>0</td>\n",
       "      <td>1</td>\n",
       "      <td>0</td>\n",
       "    </tr>\n",
       "    <tr>\n",
       "      <th>19157</th>\n",
       "      <td>23834</td>\n",
       "      <td>3</td>\n",
       "      <td>0.855</td>\n",
       "      <td>1</td>\n",
       "      <td>3</td>\n",
       "      <td>4</td>\n",
       "      <td>NaN</td>\n",
       "      <td>2</td>\n",
       "      <td>NaN</td>\n",
       "      <td>NaN</td>\n",
       "      <td>1</td>\n",
       "      <td>127</td>\n",
       "      <td>0.0</td>\n",
       "      <td>0</td>\n",
       "      <td>0</td>\n",
       "      <td>1</td>\n",
       "    </tr>\n",
       "  </tbody>\n",
       "</table>\n",
       "<p>18908 rows × 16 columns</p>\n",
       "</div>"
      ],
      "text/plain": [
       "       enrollee_id  city  city_development_index  relevent_experience  \\\n",
       "0             8949     3                   0.920                    0   \n",
       "1            29725     1                   0.776                    1   \n",
       "2            11561     3                   0.624                    1   \n",
       "3            33241     1                   0.789                    1   \n",
       "4              666     0                   0.767                    0   \n",
       "...            ...   ...                     ...                  ...   \n",
       "19153         7386     0                   0.878                    1   \n",
       "19154        31398     3                   0.920                    0   \n",
       "19155        24576     3                   0.920                    0   \n",
       "19156         5756     0                   0.802                    0   \n",
       "19157        23834     3                   0.855                    1   \n",
       "\n",
       "       enrolled_university  education_level major_discipline experience  \\\n",
       "0                        3                0             STEM        >20   \n",
       "1                        3                0             STEM         15   \n",
       "2                        0                0             STEM          5   \n",
       "3                        2                0  Business Degree         <1   \n",
       "4                        3                2             STEM        >20   \n",
       "...                    ...              ...              ...        ...   \n",
       "19153                    3                0       Humanities         14   \n",
       "19154                    3                0             STEM         14   \n",
       "19155                    3                0             STEM        >20   \n",
       "19156                    3                1              NaN         <1   \n",
       "19157                    3                4              NaN          2   \n",
       "\n",
       "      company_size    company_type last_new_job  training_hours  target  \\\n",
       "0              NaN             NaN            1              36     1.0   \n",
       "1            50-99         Pvt Ltd           >4              47     0.0   \n",
       "2              NaN             NaN        never              83     0.0   \n",
       "3              NaN         Pvt Ltd        never              52     1.0   \n",
       "4            50-99  Funded Startup            4               8     0.0   \n",
       "...            ...             ...          ...             ...     ...   \n",
       "19153          NaN             NaN            1              42     1.0   \n",
       "19154          NaN             NaN            4              52     1.0   \n",
       "19155        50-99         Pvt Ltd            4              44     0.0   \n",
       "19156      500-999         Pvt Ltd            2              97     0.0   \n",
       "19157          NaN             NaN            1             127     0.0   \n",
       "\n",
       "       gender_Female  gender_Male  gender_Other  \n",
       "0                  0            1             0  \n",
       "1                  0            1             0  \n",
       "2                  0            0             1  \n",
       "3                  0            0             1  \n",
       "4                  0            1             0  \n",
       "...              ...          ...           ...  \n",
       "19153              0            1             0  \n",
       "19154              0            1             0  \n",
       "19155              0            1             0  \n",
       "19156              0            1             0  \n",
       "19157              0            0             1  \n",
       "\n",
       "[18908 rows x 16 columns]"
      ]
     },
     "execution_count": 276,
     "metadata": {},
     "output_type": "execute_result"
    }
   ],
   "source": [
    "df"
   ]
  },
  {
   "cell_type": "markdown",
   "id": "86f0ea51",
   "metadata": {},
   "source": [
    "#### major_discipline"
   ]
  },
  {
   "cell_type": "code",
   "execution_count": 277,
   "id": "543e6651",
   "metadata": {},
   "outputs": [
    {
     "data": {
      "text/plain": [
       "STEM               14483\n",
       "NaN                 2572\n",
       "Humanities           669\n",
       "Other                381\n",
       "Business Degree      327\n",
       "Arts                 253\n",
       "No Major             223\n",
       "Name: major_discipline, dtype: int64"
      ]
     },
     "execution_count": 277,
     "metadata": {},
     "output_type": "execute_result"
    }
   ],
   "source": [
    "df.major_discipline.value_counts( dropna=False)"
   ]
  },
  {
   "cell_type": "code",
   "execution_count": 278,
   "id": "c4c31a5f",
   "metadata": {},
   "outputs": [],
   "source": [
    "df['major_discipline'].fillna('other' ,inplace=True)"
   ]
  },
  {
   "cell_type": "code",
   "execution_count": 279,
   "id": "73223177",
   "metadata": {},
   "outputs": [],
   "source": [
    "# One - Hot encoding \n",
    "major_ohe = pd.get_dummies(df.major_discipline, prefix='major')\n",
    "\n",
    "#merge one-hot encoded columns back with original DataFrame\n",
    "df = df.loc[:, df.columns != 'major_discipline'].join(major_ohe)"
   ]
  },
  {
   "cell_type": "markdown",
   "id": "88a04bbd",
   "metadata": {},
   "source": [
    "#### company_size"
   ]
  },
  {
   "cell_type": "code",
   "execution_count": 280,
   "id": "c096503b",
   "metadata": {},
   "outputs": [
    {
     "data": {
      "text/plain": [
       "NaN          5695\n",
       "50-99        3083\n",
       "100-500      2568\n",
       "10000+       2018\n",
       "10/49        1469\n",
       "1000-4999    1328\n",
       "<10          1307\n",
       "500-999       877\n",
       "5000-9999     563\n",
       "Name: company_size, dtype: int64"
      ]
     },
     "execution_count": 280,
     "metadata": {},
     "output_type": "execute_result"
    }
   ],
   "source": [
    "df.company_size.value_counts( dropna=False)"
   ]
  },
  {
   "cell_type": "code",
   "execution_count": 281,
   "id": "de9ff5f1",
   "metadata": {},
   "outputs": [],
   "source": [
    "df['company_size'].replace(['<10','10/49', '50-99', '100-500', '500-999', '1000-4999', '5000-9999', '10000+',],\n",
    "                             ['Startup','Small','Small','Medium','Medium','Large','Large','Large'],inplace=True)\n",
    "df['company_size'] = df['company_size'].fillna(df['company_size'].value_counts().index[0]) # inpute with mode\n",
    "CSizeLabelEncoder = LabelEncoder().fit(df['company_size'])\n",
    "CSizeList = CSizeLabelEncoder.classes_\n",
    "df['company_size'] = CSizeLabelEncoder.transform(df['company_size'])"
   ]
  },
  {
   "cell_type": "markdown",
   "id": "ef948a9d",
   "metadata": {},
   "source": [
    "#### experience"
   ]
  },
  {
   "cell_type": "code",
   "execution_count": 282,
   "id": "61b0bcd5",
   "metadata": {},
   "outputs": [
    {
     "data": {
      "text/plain": [
       ">20    3269\n",
       "5      1411\n",
       "4      1381\n",
       "3      1321\n",
       "6      1204\n",
       "2      1080\n",
       "7      1023\n",
       "10      985\n",
       "9       976\n",
       "8       795\n",
       "15      683\n",
       "11      662\n",
       "14      586\n",
       "1       526\n",
       "16      505\n",
       "<1      498\n",
       "12      491\n",
       "13      398\n",
       "17      341\n",
       "19      303\n",
       "18      278\n",
       "20      146\n",
       "Name: experience, dtype: int64"
      ]
     },
     "execution_count": 282,
     "metadata": {},
     "output_type": "execute_result"
    }
   ],
   "source": [
    "df.experience.value_counts()"
   ]
  },
  {
   "cell_type": "code",
   "execution_count": 283,
   "id": "fa7651f9",
   "metadata": {},
   "outputs": [],
   "source": [
    "df['experience'].replace(['>20','<1'],[20,1],inplace=True)\n",
    "df['experience'].fillna(df['experience'].value_counts().index[0],inplace=True) # fillna with mode\n",
    "df['experience'] = [float(i) for i in df['experience']] # convert to float"
   ]
  },
  {
   "cell_type": "markdown",
   "id": "ed039d90",
   "metadata": {},
   "source": [
    "#### company_type"
   ]
  },
  {
   "cell_type": "code",
   "execution_count": 284,
   "id": "99a62d5a",
   "metadata": {},
   "outputs": [
    {
     "data": {
      "text/plain": [
       "Pvt Ltd                9814\n",
       "NaN                    5894\n",
       "Funded Startup         1001\n",
       "Public Sector           954\n",
       "Early Stage Startup     603\n",
       "NGO                     521\n",
       "Other                   121\n",
       "Name: company_type, dtype: int64"
      ]
     },
     "execution_count": 284,
     "metadata": {},
     "output_type": "execute_result"
    }
   ],
   "source": [
    "df.company_type.value_counts(dropna=False)"
   ]
  },
  {
   "cell_type": "code",
   "execution_count": 285,
   "id": "1563349c",
   "metadata": {},
   "outputs": [],
   "source": [
    "# fillna as other\n",
    "df['company_type'].fillna('Other' ,inplace=True)"
   ]
  },
  {
   "cell_type": "code",
   "execution_count": 286,
   "id": "e6dc6018",
   "metadata": {},
   "outputs": [],
   "source": [
    "company_ohe = pd.get_dummies(df.company_type, prefix='company_type')\n",
    "\n",
    "#merge one-hot encoded columns back with original DataFrame\n",
    "df = df.loc[:, df.columns != 'company_type'].join(company_ohe)"
   ]
  },
  {
   "cell_type": "markdown",
   "id": "b5ef7b1d",
   "metadata": {},
   "source": [
    "#### last new job"
   ]
  },
  {
   "cell_type": "code",
   "execution_count": 300,
   "id": "f9b87af6",
   "metadata": {},
   "outputs": [
    {
     "data": {
      "text/plain": [
       "1        8004\n",
       ">4       3279\n",
       "2        2890\n",
       "never    2351\n",
       "4        1028\n",
       "3        1021\n",
       "Name: last_new_job, dtype: int64"
      ]
     },
     "execution_count": 300,
     "metadata": {},
     "output_type": "execute_result"
    }
   ],
   "source": [
    "df.last_new_job.value_counts()"
   ]
  },
  {
   "cell_type": "code",
   "execution_count": 302,
   "id": "fe6ff7c2",
   "metadata": {},
   "outputs": [],
   "source": [
    "df['last_new_job'].replace(['>4','never'],['4','0'],inplace=True)\n",
    "df['last_new_job'].fillna(df['last_new_job'].value_counts().index[0],inplace=True)\n",
    "df['last_new_job'] = [float(i) for i in df['last_new_job']]"
   ]
  },
  {
   "cell_type": "markdown",
   "id": "152c02ab",
   "metadata": {},
   "source": [
    "#### Validate the Data is ready for modeling"
   ]
  },
  {
   "cell_type": "code",
   "execution_count": 306,
   "id": "4bd56de1",
   "metadata": {},
   "outputs": [
    {
     "data": {
      "text/plain": [
       "enrollee_id                           int64\n",
       "city                                  int64\n",
       "city_development_index              float64\n",
       "relevent_experience                   int64\n",
       "enrolled_university                   int64\n",
       "education_level                       int64\n",
       "experience                          float64\n",
       "company_size                          int64\n",
       "last_new_job                        float64\n",
       "training_hours                        int64\n",
       "target                              float64\n",
       "gender_Female                         uint8\n",
       "gender_Male                           uint8\n",
       "gender_Other                          uint8\n",
       "major_Arts                            uint8\n",
       "major_Business Degree                 uint8\n",
       "major_Humanities                      uint8\n",
       "major_No Major                        uint8\n",
       "major_Other                           uint8\n",
       "major_STEM                            uint8\n",
       "major_other                           uint8\n",
       "company_type_Early Stage Startup      uint8\n",
       "company_type_Funded Startup           uint8\n",
       "company_type_NGO                      uint8\n",
       "company_type_Other                    uint8\n",
       "company_type_Public Sector            uint8\n",
       "company_type_Pvt Ltd                  uint8\n",
       "dtype: object"
      ]
     },
     "execution_count": 306,
     "metadata": {},
     "output_type": "execute_result"
    }
   ],
   "source": [
    "df.dtypes"
   ]
  },
  {
   "cell_type": "code",
   "execution_count": 310,
   "id": "99f3d538",
   "metadata": {},
   "outputs": [
    {
     "data": {
      "text/html": [
       "<div>\n",
       "<style scoped>\n",
       "    .dataframe tbody tr th:only-of-type {\n",
       "        vertical-align: middle;\n",
       "    }\n",
       "\n",
       "    .dataframe tbody tr th {\n",
       "        vertical-align: top;\n",
       "    }\n",
       "\n",
       "    .dataframe thead th {\n",
       "        text-align: right;\n",
       "    }\n",
       "</style>\n",
       "<table border=\"1\" class=\"dataframe\">\n",
       "  <thead>\n",
       "    <tr style=\"text-align: right;\">\n",
       "      <th></th>\n",
       "      <th>enrollee_id</th>\n",
       "      <th>city</th>\n",
       "      <th>city_development_index</th>\n",
       "      <th>relevent_experience</th>\n",
       "      <th>enrolled_university</th>\n",
       "      <th>education_level</th>\n",
       "      <th>experience</th>\n",
       "      <th>company_size</th>\n",
       "      <th>last_new_job</th>\n",
       "      <th>training_hours</th>\n",
       "      <th>...</th>\n",
       "      <th>major_No Major</th>\n",
       "      <th>major_Other</th>\n",
       "      <th>major_STEM</th>\n",
       "      <th>major_other</th>\n",
       "      <th>company_type_Early Stage Startup</th>\n",
       "      <th>company_type_Funded Startup</th>\n",
       "      <th>company_type_NGO</th>\n",
       "      <th>company_type_Other</th>\n",
       "      <th>company_type_Public Sector</th>\n",
       "      <th>company_type_Pvt Ltd</th>\n",
       "    </tr>\n",
       "  </thead>\n",
       "  <tbody>\n",
       "    <tr>\n",
       "      <th>0</th>\n",
       "      <td>8949</td>\n",
       "      <td>3</td>\n",
       "      <td>0.920</td>\n",
       "      <td>0</td>\n",
       "      <td>3</td>\n",
       "      <td>0</td>\n",
       "      <td>20.0</td>\n",
       "      <td>2</td>\n",
       "      <td>1.0</td>\n",
       "      <td>36</td>\n",
       "      <td>...</td>\n",
       "      <td>0</td>\n",
       "      <td>0</td>\n",
       "      <td>1</td>\n",
       "      <td>0</td>\n",
       "      <td>0</td>\n",
       "      <td>0</td>\n",
       "      <td>0</td>\n",
       "      <td>1</td>\n",
       "      <td>0</td>\n",
       "      <td>0</td>\n",
       "    </tr>\n",
       "    <tr>\n",
       "      <th>1</th>\n",
       "      <td>29725</td>\n",
       "      <td>1</td>\n",
       "      <td>0.776</td>\n",
       "      <td>1</td>\n",
       "      <td>3</td>\n",
       "      <td>0</td>\n",
       "      <td>15.0</td>\n",
       "      <td>2</td>\n",
       "      <td>4.0</td>\n",
       "      <td>47</td>\n",
       "      <td>...</td>\n",
       "      <td>0</td>\n",
       "      <td>0</td>\n",
       "      <td>1</td>\n",
       "      <td>0</td>\n",
       "      <td>0</td>\n",
       "      <td>0</td>\n",
       "      <td>0</td>\n",
       "      <td>0</td>\n",
       "      <td>0</td>\n",
       "      <td>1</td>\n",
       "    </tr>\n",
       "    <tr>\n",
       "      <th>2</th>\n",
       "      <td>11561</td>\n",
       "      <td>3</td>\n",
       "      <td>0.624</td>\n",
       "      <td>1</td>\n",
       "      <td>0</td>\n",
       "      <td>0</td>\n",
       "      <td>5.0</td>\n",
       "      <td>2</td>\n",
       "      <td>0.0</td>\n",
       "      <td>83</td>\n",
       "      <td>...</td>\n",
       "      <td>0</td>\n",
       "      <td>0</td>\n",
       "      <td>1</td>\n",
       "      <td>0</td>\n",
       "      <td>0</td>\n",
       "      <td>0</td>\n",
       "      <td>0</td>\n",
       "      <td>1</td>\n",
       "      <td>0</td>\n",
       "      <td>0</td>\n",
       "    </tr>\n",
       "    <tr>\n",
       "      <th>3</th>\n",
       "      <td>33241</td>\n",
       "      <td>1</td>\n",
       "      <td>0.789</td>\n",
       "      <td>1</td>\n",
       "      <td>2</td>\n",
       "      <td>0</td>\n",
       "      <td>1.0</td>\n",
       "      <td>2</td>\n",
       "      <td>0.0</td>\n",
       "      <td>52</td>\n",
       "      <td>...</td>\n",
       "      <td>0</td>\n",
       "      <td>0</td>\n",
       "      <td>0</td>\n",
       "      <td>0</td>\n",
       "      <td>0</td>\n",
       "      <td>0</td>\n",
       "      <td>0</td>\n",
       "      <td>0</td>\n",
       "      <td>0</td>\n",
       "      <td>1</td>\n",
       "    </tr>\n",
       "    <tr>\n",
       "      <th>4</th>\n",
       "      <td>666</td>\n",
       "      <td>0</td>\n",
       "      <td>0.767</td>\n",
       "      <td>0</td>\n",
       "      <td>3</td>\n",
       "      <td>2</td>\n",
       "      <td>20.0</td>\n",
       "      <td>2</td>\n",
       "      <td>4.0</td>\n",
       "      <td>8</td>\n",
       "      <td>...</td>\n",
       "      <td>0</td>\n",
       "      <td>0</td>\n",
       "      <td>1</td>\n",
       "      <td>0</td>\n",
       "      <td>0</td>\n",
       "      <td>1</td>\n",
       "      <td>0</td>\n",
       "      <td>0</td>\n",
       "      <td>0</td>\n",
       "      <td>0</td>\n",
       "    </tr>\n",
       "  </tbody>\n",
       "</table>\n",
       "<p>5 rows × 27 columns</p>\n",
       "</div>"
      ],
      "text/plain": [
       "   enrollee_id  city  city_development_index  relevent_experience  \\\n",
       "0         8949     3                   0.920                    0   \n",
       "1        29725     1                   0.776                    1   \n",
       "2        11561     3                   0.624                    1   \n",
       "3        33241     1                   0.789                    1   \n",
       "4          666     0                   0.767                    0   \n",
       "\n",
       "   enrolled_university  education_level  experience  company_size  \\\n",
       "0                    3                0        20.0             2   \n",
       "1                    3                0        15.0             2   \n",
       "2                    0                0         5.0             2   \n",
       "3                    2                0         1.0             2   \n",
       "4                    3                2        20.0             2   \n",
       "\n",
       "   last_new_job  training_hours  ...  major_No Major  major_Other  major_STEM  \\\n",
       "0           1.0              36  ...               0            0           1   \n",
       "1           4.0              47  ...               0            0           1   \n",
       "2           0.0              83  ...               0            0           1   \n",
       "3           0.0              52  ...               0            0           0   \n",
       "4           4.0               8  ...               0            0           1   \n",
       "\n",
       "   major_other  company_type_Early Stage Startup  company_type_Funded Startup  \\\n",
       "0            0                                 0                            0   \n",
       "1            0                                 0                            0   \n",
       "2            0                                 0                            0   \n",
       "3            0                                 0                            0   \n",
       "4            0                                 0                            1   \n",
       "\n",
       "   company_type_NGO  company_type_Other  company_type_Public Sector  \\\n",
       "0                 0                   1                           0   \n",
       "1                 0                   0                           0   \n",
       "2                 0                   1                           0   \n",
       "3                 0                   0                           0   \n",
       "4                 0                   0                           0   \n",
       "\n",
       "   company_type_Pvt Ltd  \n",
       "0                     0  \n",
       "1                     1  \n",
       "2                     0  \n",
       "3                     1  \n",
       "4                     0  \n",
       "\n",
       "[5 rows x 27 columns]"
      ]
     },
     "execution_count": 310,
     "metadata": {},
     "output_type": "execute_result"
    }
   ],
   "source": [
    "df.head()"
   ]
  },
  {
   "cell_type": "markdown",
   "id": "f565f27f",
   "metadata": {},
   "source": [
    "## Training and Testing Split"
   ]
  },
  {
   "cell_type": "markdown",
   "id": "4b2fe345",
   "metadata": {},
   "source": [
    "#### Random spliting"
   ]
  },
  {
   "cell_type": "code",
   "execution_count": 307,
   "id": "bf26880f",
   "metadata": {},
   "outputs": [],
   "source": [
    "from sklearn.model_selection import train_test_split\n",
    "\n",
    "X = df.loc[:, df.columns != 'target']\n",
    "y = df.loc[:, df.columns == 'target']\n",
    "X_train_rand, X_test_rand, y_train_rand, y_test_rand = train_test_split(X, y, test_size=0.2,random_state=42,\n",
    "                                                    shuffle=True)"
   ]
  },
  {
   "cell_type": "markdown",
   "id": "b0b29d10",
   "metadata": {},
   "source": [
    "#### Stratify splitting"
   ]
  },
  {
   "cell_type": "code",
   "execution_count": 312,
   "id": "290c4f43",
   "metadata": {},
   "outputs": [],
   "source": [
    "from sklearn.model_selection import StratifiedShuffleSplit\n",
    "\n",
    "strat=StratifiedShuffleSplit(n_splits=1, test_size=0.5, random_state=42)\n",
    "\n",
    "for train_index,test_index in strat.split(df, df['education_level']):\n",
    "    strat_train  = df.iloc[train_index]\n",
    "    strat_test = df.iloc[test_index]"
   ]
  },
  {
   "cell_type": "code",
   "execution_count": 318,
   "id": "1294f01d",
   "metadata": {},
   "outputs": [
    {
     "data": {
      "text/html": [
       "<div>\n",
       "<style scoped>\n",
       "    .dataframe tbody tr th:only-of-type {\n",
       "        vertical-align: middle;\n",
       "    }\n",
       "\n",
       "    .dataframe tbody tr th {\n",
       "        vertical-align: top;\n",
       "    }\n",
       "\n",
       "    .dataframe thead th {\n",
       "        text-align: right;\n",
       "    }\n",
       "</style>\n",
       "<table border=\"1\" class=\"dataframe\">\n",
       "  <thead>\n",
       "    <tr style=\"text-align: right;\">\n",
       "      <th></th>\n",
       "      <th>Original</th>\n",
       "      <th>Stratify</th>\n",
       "      <th>Random</th>\n",
       "      <th>stratfy_error%</th>\n",
       "      <th>random_error%</th>\n",
       "    </tr>\n",
       "  </thead>\n",
       "  <tbody>\n",
       "    <tr>\n",
       "      <th>0</th>\n",
       "      <td>0.613021</td>\n",
       "      <td>0.612968</td>\n",
       "      <td>0.618009</td>\n",
       "      <td>-0.000086</td>\n",
       "      <td>0.008071</td>\n",
       "    </tr>\n",
       "    <tr>\n",
       "      <th>2</th>\n",
       "      <td>0.230432</td>\n",
       "      <td>0.230379</td>\n",
       "      <td>0.228811</td>\n",
       "      <td>-0.000230</td>\n",
       "      <td>-0.007081</td>\n",
       "    </tr>\n",
       "    <tr>\n",
       "      <th>1</th>\n",
       "      <td>0.103818</td>\n",
       "      <td>0.103871</td>\n",
       "      <td>0.101018</td>\n",
       "      <td>0.000509</td>\n",
       "      <td>-0.027722</td>\n",
       "    </tr>\n",
       "    <tr>\n",
       "      <th>3</th>\n",
       "      <td>0.021843</td>\n",
       "      <td>0.021895</td>\n",
       "      <td>0.022544</td>\n",
       "      <td>0.002415</td>\n",
       "      <td>0.031111</td>\n",
       "    </tr>\n",
       "    <tr>\n",
       "      <th>4</th>\n",
       "      <td>0.015866</td>\n",
       "      <td>0.015866</td>\n",
       "      <td>0.015734</td>\n",
       "      <td>0.000000</td>\n",
       "      <td>-0.008377</td>\n",
       "    </tr>\n",
       "    <tr>\n",
       "      <th>5</th>\n",
       "      <td>0.015020</td>\n",
       "      <td>0.015020</td>\n",
       "      <td>0.013883</td>\n",
       "      <td>0.000000</td>\n",
       "      <td>-0.081876</td>\n",
       "    </tr>\n",
       "  </tbody>\n",
       "</table>\n",
       "</div>"
      ],
      "text/plain": [
       "   Original  Stratify    Random  stratfy_error%  random_error%\n",
       "0  0.613021  0.612968  0.618009       -0.000086       0.008071\n",
       "2  0.230432  0.230379  0.228811       -0.000230      -0.007081\n",
       "1  0.103818  0.103871  0.101018        0.000509      -0.027722\n",
       "3  0.021843  0.021895  0.022544        0.002415       0.031111\n",
       "4  0.015866  0.015866  0.015734        0.000000      -0.008377\n",
       "5  0.015020  0.015020  0.013883        0.000000      -0.081876"
      ]
     },
     "execution_count": 318,
     "metadata": {},
     "output_type": "execute_result"
    }
   ],
   "source": [
    "## compare the stratify vs random sampling from original proportions\n",
    "## stratified sampling has almost close to original proportion while the random is skewed\n",
    "\n",
    "orignial = pd.DataFrame(df.education_level.value_counts(normalize=True))\\\n",
    "                    .rename(columns={'education_level': 'Original'})\n",
    "\n",
    "stratify = pd.DataFrame(strat_train.education_level.value_counts(normalize=True))\\\n",
    "                    .rename(columns={'education_level': 'Stratify'})\n",
    "\n",
    "random =  pd.DataFrame(X_train_rand.education_level.value_counts(normalize=True))\\\n",
    "                    .rename(columns={'education_level': 'Random'})\n",
    "\n",
    "error_summary = pd.concat([orignial, stratify,random], axis=1)\n",
    "                                                                                                   \n",
    "error_summary['stratfy_error%'] = (error_summary['Stratify']- error_summary['Original'] )/ error_summary['Stratify']\n",
    "error_summary['random_error%'] = (error_summary['Random']- error_summary['Original'] )/ error_summary['Random']\n",
    "\n",
    "error_summary\n",
    "                                                                                                   "
   ]
  },
  {
   "cell_type": "code",
   "execution_count": 320,
   "id": "a517b694",
   "metadata": {
    "scrolled": true
   },
   "outputs": [],
   "source": []
  },
  {
   "cell_type": "code",
   "execution_count": null,
   "id": "5798e4b7",
   "metadata": {},
   "outputs": [],
   "source": []
  },
  {
   "cell_type": "markdown",
   "id": "1f29784f",
   "metadata": {},
   "source": [
    "## Oversampling"
   ]
  },
  {
   "cell_type": "code",
   "execution_count": 389,
   "id": "2729572f",
   "metadata": {},
   "outputs": [
    {
     "data": {
      "text/plain": [
       "0.0    14190\n",
       "1.0     4718\n",
       "Name: target, dtype: int64"
      ]
     },
     "execution_count": 389,
     "metadata": {},
     "output_type": "execute_result"
    }
   ],
   "source": [
    "df.target.value_counts()"
   ]
  },
  {
   "cell_type": "code",
   "execution_count": null,
   "id": "0cebad85",
   "metadata": {},
   "outputs": [],
   "source": [
    "from imblearb.ovsampling import SMOTE"
   ]
  },
  {
   "cell_type": "markdown",
   "id": "45a1a668",
   "metadata": {},
   "source": [
    "## Train and Testing Split"
   ]
  },
  {
   "cell_type": "markdown",
   "id": "6f47cd8e",
   "metadata": {},
   "source": [
    "## Random Forest"
   ]
  },
  {
   "cell_type": "markdown",
   "id": "f07c408f",
   "metadata": {},
   "source": [
    "## XGBOOST"
   ]
  },
  {
   "cell_type": "code",
   "execution_count": 356,
   "id": "1f722b30",
   "metadata": {},
   "outputs": [
    {
     "name": "stdout",
     "output_type": "stream",
     "text": [
      "Collecting xgboost\n",
      "  Downloading xgboost-1.6.1-py3-none-macosx_10_15_x86_64.macosx_11_0_x86_64.macosx_12_0_x86_64.whl (1.7 MB)\n",
      "\u001b[K     |████████████████████████████████| 1.7 MB 3.3 MB/s eta 0:00:01\n",
      "\u001b[?25hRequirement already satisfied: scipy in /Users/amy/opt/anaconda3/lib/python3.8/site-packages (from xgboost) (1.6.2)\n",
      "Requirement already satisfied: numpy in /Users/amy/opt/anaconda3/lib/python3.8/site-packages (from xgboost) (1.20.1)\n",
      "Installing collected packages: xgboost\n",
      "Successfully installed xgboost-1.6.1\n",
      "Note: you may need to restart the kernel to use updated packages.\n"
     ]
    }
   ],
   "source": [
    "%pip install xgboost"
   ]
  },
  {
   "cell_type": "code",
   "execution_count": 385,
   "id": "5284d68a",
   "metadata": {},
   "outputs": [],
   "source": [
    "df_raw['stratefy_col'] = df_raw['gender'] + '_' + df_raw['target'].apply(lambda x: str(x))"
   ]
  },
  {
   "cell_type": "code",
   "execution_count": 388,
   "id": "d60e1ec1",
   "metadata": {},
   "outputs": [
    {
     "data": {
      "text/plain": [
       "Male_0.0      10209\n",
       "Male_1.0       3012\n",
       "Female_0.0      912\n",
       "Female_1.0      326\n",
       "Other_0.0       141\n",
       "Other_1.0        50\n",
       "Name: stratefy_col, dtype: int64"
      ]
     },
     "execution_count": 388,
     "metadata": {},
     "output_type": "execute_result"
    }
   ],
   "source": [
    "df_raw.stratefy_col.value_counts()"
   ]
  },
  {
   "cell_type": "markdown",
   "id": "67fac10b",
   "metadata": {},
   "source": [
    "### EDA Visualization"
   ]
  },
  {
   "cell_type": "code",
   "execution_count": 288,
   "id": "c467a0b1",
   "metadata": {},
   "outputs": [],
   "source": [
    "# ######## TODO: what if I want to show distribution as percentage?\n",
    "\n",
    "# # plot counts of value in selected column\n",
    "# plt.figure(figsize=[20,20])\n",
    "# col = ['relevent_experience','education_level','major_discipline','experience', 'company_size', 'company_type',\n",
    "#        'training_hours', 'target']\n",
    "\n",
    "# n=1\n",
    "# for col_name in col:\n",
    "#     plt.subplot(4,2,n)\n",
    "#     sns.countplot(x=col_name,data=df)\n",
    "#     plt.title(f\"{col_name} Distribution\") \n",
    "#     n=n+1\n",
    "    \n",
    "# plt.show()"
   ]
  },
  {
   "cell_type": "code",
   "execution_count": 289,
   "id": "6dae3f3f",
   "metadata": {},
   "outputs": [],
   "source": [
    "# plt.figure(figsize=[20,20])\n",
    "# col = ['relevent_experience','education_level','major_discipline','experience', 'company_size', 'company_type',\n",
    "#        'training_hours', 'target']\n",
    "\n",
    "# n=1\n",
    "# for col_name in col:\n",
    "#     plt.subplot(4,2,n)\n",
    "#     sns.countplot(x=col_name,data=df, hue='gender')\n",
    "#     plt.title(f\"{col_name} Distribution by gender\") \n",
    "#     n=n+1\n",
    "    \n",
    "# plt.show()"
   ]
  }
 ],
 "metadata": {
  "kernelspec": {
   "display_name": "Python 3",
   "language": "python",
   "name": "python3"
  },
  "language_info": {
   "codemirror_mode": {
    "name": "ipython",
    "version": 3
   },
   "file_extension": ".py",
   "mimetype": "text/x-python",
   "name": "python",
   "nbconvert_exporter": "python",
   "pygments_lexer": "ipython3",
   "version": "3.10.11"
  }
 },
 "nbformat": 4,
 "nbformat_minor": 5
}
