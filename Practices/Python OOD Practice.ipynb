{
 "cells": [
  {
   "cell_type": "code",
   "execution_count": null,
   "id": "e085f273",
   "metadata": {},
   "outputs": [],
   "source": [
    "import OOD_PRACTICE as shape"
   ]
  },
  {
   "cell_type": "code",
   "execution_count": 12,
   "id": "da7614f1",
   "metadata": {},
   "outputs": [
    {
     "data": {
      "text/plain": [
       "<module 'OOD_PRACTICE' from '/Users/amy/Desktop/Python Bootcamp/Jupyter Notebook/OOD_PRACTICE.py'>"
      ]
     },
     "execution_count": 12,
     "metadata": {},
     "output_type": "execute_result"
    }
   ],
   "source": [
    "shape"
   ]
  },
  {
   "cell_type": "code",
   "execution_count": 7,
   "id": "82b8cf26",
   "metadata": {},
   "outputs": [
    {
     "name": "stdout",
     "output_type": "stream",
     "text": [
      "shape_1's name is shape_1\n"
     ]
    }
   ],
   "source": [
    "my_shape1 = shape.Shape('shape_1')  # construct a object\n",
    "print(f\"shape_1's name is {my_shape1.get_name()}\")"
   ]
  },
  {
   "cell_type": "code",
   "execution_count": 8,
   "id": "b3c76319",
   "metadata": {},
   "outputs": [
    {
     "name": "stdout",
     "output_type": "stream",
     "text": [
      "shape_2's name is shape_2_rectangle\n",
      "shape_2's area is 200\n"
     ]
    }
   ],
   "source": [
    "my_shape_2 = shape.Rectangle(\"shape_2_rectangle\", 20, 10)\n",
    "print(f\"shape_2's name is {my_shape_2.get_name()}\")\n",
    "print(f\"shape_2's area is {my_shape_2.get_area()}\")"
   ]
  },
  {
   "cell_type": "code",
   "execution_count": 9,
   "id": "938ac2eb",
   "metadata": {},
   "outputs": [
    {
     "name": "stdout",
     "output_type": "stream",
     "text": [
      "shape_2's name is shape_3_square\n",
      "shape_2's area is 400\n"
     ]
    }
   ],
   "source": [
    "my_shape_3 = shape.Square(\"shape_3_square\",20)\n",
    "print(f\"shape_3's name is {my_shape_3.get_name()}\")\n",
    "print(f\"shape_3's area is {my_shape_3.get_area()}\")"
   ]
  },
  {
   "cell_type": "code",
   "execution_count": 10,
   "id": "d35b7690",
   "metadata": {},
   "outputs": [
    {
     "name": "stdout",
     "output_type": "stream",
     "text": [
      "shape_4's name is shape_4_square_hole\n",
      "shape_4's area is 399\n"
     ]
    }
   ],
   "source": [
    "my_shape_4 = shape.SquareWithAHoleInside(\"shape_4_square_hole\",20,1)\n",
    "print(f\"shape_4's name is {my_shape_4.get_name()}\")\n",
    "print(f\"shape_4's area is {my_shape_4.get_area()}\")"
   ]
  },
  {
   "cell_type": "code",
   "execution_count": 11,
   "id": "be6db827",
   "metadata": {},
   "outputs": [
    {
     "name": "stdout",
     "output_type": "stream",
     "text": [
      "shape_5's name is shape_5_Circle\n",
      "shape_5's area is 314.0\n",
      "shape_5's area is red\n"
     ]
    }
   ],
   "source": [
    "my_shape_5 = shape.Circle(\"shape_5_Circle\",10)\n",
    "print(f\"shape_5's name is {my_shape_5.get_name()}\")\n",
    "print(f\"shape_5's area is {my_shape_5.get_area()}\")\n",
    "print(f\"shape_5's area is {my_shape_5.get_color()}\")"
   ]
  },
  {
   "cell_type": "code",
   "execution_count": null,
   "id": "f02171ed",
   "metadata": {},
   "outputs": [],
   "source": []
  },
  {
   "cell_type": "code",
   "execution_count": null,
   "id": "1b580647",
   "metadata": {},
   "outputs": [],
   "source": []
  },
  {
   "cell_type": "markdown",
   "id": "d2fee93b",
   "metadata": {},
   "source": [
    "### Make Project 1 Data Preprocessing as a module"
   ]
  },
  {
   "cell_type": "code",
   "execution_count": 30,
   "id": "1adab563",
   "metadata": {},
   "outputs": [],
   "source": [
    "import pandas as pd\n",
    "df_train = pd.read_csv('/Users/amy/Desktop/Python Bootcamp/projec1_data/aug_train.csv')"
   ]
  },
  {
   "cell_type": "code",
   "execution_count": 31,
   "id": "40f08dfa",
   "metadata": {},
   "outputs": [],
   "source": [
    "def preproc_city(df):\n",
    "    city_dict = df['city'].value_counts().to_dict()\n",
    "    lst_small_city=[]\n",
    "    lst_med_city=[]\n",
    "    lst_large_city=[]\n",
    "    lst_superlarge_city=[]\n",
    "    for key,value in city_dict.items():\n",
    "        if value <=50:\n",
    "            lst_small_city.append(key)\n",
    "        if value >50 and value <=100:\n",
    "            lst_med_city.append(key)\n",
    "        if value >100 and value <=200:\n",
    "            lst_large_city.append(key)\n",
    "        else:\n",
    "            lst_superlarge_city.append(key)\n",
    "            \n",
    "    df.loc[df['city'].isin(lst_small_city) , 'city'] = 'city_small'\n",
    "    df.loc[df['city'].isin(lst_med_city) , 'city'] = 'city_med'\n",
    "    df.loc[df['city'].isin(lst_large_city) , 'city'] = 'city_large'\n",
    "    df.loc[df['city'].isin(lst_superlarge_city) , 'city'] = 'city_xlarge'\n",
    "    "
   ]
  },
  {
   "cell_type": "code",
   "execution_count": 32,
   "id": "5c41fc34",
   "metadata": {},
   "outputs": [],
   "source": [
    "preproc_city(df= df_train)"
   ]
  },
  {
   "cell_type": "code",
   "execution_count": 33,
   "id": "d78cafff",
   "metadata": {},
   "outputs": [
    {
     "data": {
      "text/plain": [
       "city_xlarge    13766\n",
       "city_large      2800\n",
       "city_med        1332\n",
       "city_small      1260\n",
       "Name: city, dtype: int64"
      ]
     },
     "execution_count": 33,
     "metadata": {},
     "output_type": "execute_result"
    }
   ],
   "source": [
    "df_train.city.value_counts()"
   ]
  },
  {
   "cell_type": "code",
   "execution_count": 39,
   "id": "387df91f",
   "metadata": {},
   "outputs": [],
   "source": [
    "from sklearn.preprocessing import LabelEncoder\n",
    "\n",
    "\n",
    "def mylabelencoder(df, col):\n",
    "    le = LabelEncoder().fit(df[col])\n",
    "    lst = le.classes_\n",
    "    df[col] = le.transform(df[col])\n",
    "    encoding_list = dict(zip(le.classes_, le.transform(le.classes_)))\n",
    "    return encoding_list"
   ]
  },
  {
   "cell_type": "code",
   "execution_count": 40,
   "id": "5c487228",
   "metadata": {},
   "outputs": [],
   "source": [
    "city_encoding_list = mylabelencoder(df= df_train, col='city')"
   ]
  },
  {
   "cell_type": "code",
   "execution_count": 41,
   "id": "6fa68786",
   "metadata": {},
   "outputs": [
    {
     "data": {
      "text/plain": [
       "{'city_large': 0, 'city_med': 1, 'city_small': 2, 'city_xlarge': 3}"
      ]
     },
     "execution_count": 41,
     "metadata": {},
     "output_type": "execute_result"
    }
   ],
   "source": [
    "city_encoding_list"
   ]
  },
  {
   "cell_type": "code",
   "execution_count": 43,
   "id": "4892da43",
   "metadata": {},
   "outputs": [],
   "source": [
    "rel_exp_encoding_list = mylabelencoder(df= df_train, col='relevent_experience')"
   ]
  },
  {
   "cell_type": "code",
   "execution_count": 44,
   "id": "f42dccd4",
   "metadata": {},
   "outputs": [
    {
     "data": {
      "text/plain": [
       "{'Has relevent experience': 0, 'No relevent experience': 1}"
      ]
     },
     "execution_count": 44,
     "metadata": {},
     "output_type": "execute_result"
    }
   ],
   "source": [
    "rel_exp_encoding_list"
   ]
  },
  {
   "cell_type": "code",
   "execution_count": 45,
   "id": "334297bf",
   "metadata": {},
   "outputs": [
    {
     "data": {
      "text/html": [
       "<div>\n",
       "<style scoped>\n",
       "    .dataframe tbody tr th:only-of-type {\n",
       "        vertical-align: middle;\n",
       "    }\n",
       "\n",
       "    .dataframe tbody tr th {\n",
       "        vertical-align: top;\n",
       "    }\n",
       "\n",
       "    .dataframe thead th {\n",
       "        text-align: right;\n",
       "    }\n",
       "</style>\n",
       "<table border=\"1\" class=\"dataframe\">\n",
       "  <thead>\n",
       "    <tr style=\"text-align: right;\">\n",
       "      <th></th>\n",
       "      <th>enrollee_id</th>\n",
       "      <th>city</th>\n",
       "      <th>city_development_index</th>\n",
       "      <th>gender</th>\n",
       "      <th>relevent_experience</th>\n",
       "      <th>enrolled_university</th>\n",
       "      <th>education_level</th>\n",
       "      <th>major_discipline</th>\n",
       "      <th>experience</th>\n",
       "      <th>company_size</th>\n",
       "      <th>company_type</th>\n",
       "      <th>last_new_job</th>\n",
       "      <th>training_hours</th>\n",
       "      <th>target</th>\n",
       "    </tr>\n",
       "  </thead>\n",
       "  <tbody>\n",
       "    <tr>\n",
       "      <th>0</th>\n",
       "      <td>8949</td>\n",
       "      <td>3</td>\n",
       "      <td>0.920</td>\n",
       "      <td>Male</td>\n",
       "      <td>0</td>\n",
       "      <td>no_enrollment</td>\n",
       "      <td>Graduate</td>\n",
       "      <td>STEM</td>\n",
       "      <td>&gt;20</td>\n",
       "      <td>NaN</td>\n",
       "      <td>NaN</td>\n",
       "      <td>1</td>\n",
       "      <td>36</td>\n",
       "      <td>1.0</td>\n",
       "    </tr>\n",
       "    <tr>\n",
       "      <th>1</th>\n",
       "      <td>29725</td>\n",
       "      <td>1</td>\n",
       "      <td>0.776</td>\n",
       "      <td>Male</td>\n",
       "      <td>1</td>\n",
       "      <td>no_enrollment</td>\n",
       "      <td>Graduate</td>\n",
       "      <td>STEM</td>\n",
       "      <td>15</td>\n",
       "      <td>50-99</td>\n",
       "      <td>Pvt Ltd</td>\n",
       "      <td>&gt;4</td>\n",
       "      <td>47</td>\n",
       "      <td>0.0</td>\n",
       "    </tr>\n",
       "    <tr>\n",
       "      <th>2</th>\n",
       "      <td>11561</td>\n",
       "      <td>3</td>\n",
       "      <td>0.624</td>\n",
       "      <td>NaN</td>\n",
       "      <td>1</td>\n",
       "      <td>Full time course</td>\n",
       "      <td>Graduate</td>\n",
       "      <td>STEM</td>\n",
       "      <td>5</td>\n",
       "      <td>NaN</td>\n",
       "      <td>NaN</td>\n",
       "      <td>never</td>\n",
       "      <td>83</td>\n",
       "      <td>0.0</td>\n",
       "    </tr>\n",
       "    <tr>\n",
       "      <th>3</th>\n",
       "      <td>33241</td>\n",
       "      <td>1</td>\n",
       "      <td>0.789</td>\n",
       "      <td>NaN</td>\n",
       "      <td>1</td>\n",
       "      <td>NaN</td>\n",
       "      <td>Graduate</td>\n",
       "      <td>Business Degree</td>\n",
       "      <td>&lt;1</td>\n",
       "      <td>NaN</td>\n",
       "      <td>Pvt Ltd</td>\n",
       "      <td>never</td>\n",
       "      <td>52</td>\n",
       "      <td>1.0</td>\n",
       "    </tr>\n",
       "    <tr>\n",
       "      <th>4</th>\n",
       "      <td>666</td>\n",
       "      <td>0</td>\n",
       "      <td>0.767</td>\n",
       "      <td>Male</td>\n",
       "      <td>0</td>\n",
       "      <td>no_enrollment</td>\n",
       "      <td>Masters</td>\n",
       "      <td>STEM</td>\n",
       "      <td>&gt;20</td>\n",
       "      <td>50-99</td>\n",
       "      <td>Funded Startup</td>\n",
       "      <td>4</td>\n",
       "      <td>8</td>\n",
       "      <td>0.0</td>\n",
       "    </tr>\n",
       "    <tr>\n",
       "      <th>...</th>\n",
       "      <td>...</td>\n",
       "      <td>...</td>\n",
       "      <td>...</td>\n",
       "      <td>...</td>\n",
       "      <td>...</td>\n",
       "      <td>...</td>\n",
       "      <td>...</td>\n",
       "      <td>...</td>\n",
       "      <td>...</td>\n",
       "      <td>...</td>\n",
       "      <td>...</td>\n",
       "      <td>...</td>\n",
       "      <td>...</td>\n",
       "      <td>...</td>\n",
       "    </tr>\n",
       "    <tr>\n",
       "      <th>19153</th>\n",
       "      <td>7386</td>\n",
       "      <td>0</td>\n",
       "      <td>0.878</td>\n",
       "      <td>Male</td>\n",
       "      <td>1</td>\n",
       "      <td>no_enrollment</td>\n",
       "      <td>Graduate</td>\n",
       "      <td>Humanities</td>\n",
       "      <td>14</td>\n",
       "      <td>NaN</td>\n",
       "      <td>NaN</td>\n",
       "      <td>1</td>\n",
       "      <td>42</td>\n",
       "      <td>1.0</td>\n",
       "    </tr>\n",
       "    <tr>\n",
       "      <th>19154</th>\n",
       "      <td>31398</td>\n",
       "      <td>3</td>\n",
       "      <td>0.920</td>\n",
       "      <td>Male</td>\n",
       "      <td>0</td>\n",
       "      <td>no_enrollment</td>\n",
       "      <td>Graduate</td>\n",
       "      <td>STEM</td>\n",
       "      <td>14</td>\n",
       "      <td>NaN</td>\n",
       "      <td>NaN</td>\n",
       "      <td>4</td>\n",
       "      <td>52</td>\n",
       "      <td>1.0</td>\n",
       "    </tr>\n",
       "    <tr>\n",
       "      <th>19155</th>\n",
       "      <td>24576</td>\n",
       "      <td>3</td>\n",
       "      <td>0.920</td>\n",
       "      <td>Male</td>\n",
       "      <td>0</td>\n",
       "      <td>no_enrollment</td>\n",
       "      <td>Graduate</td>\n",
       "      <td>STEM</td>\n",
       "      <td>&gt;20</td>\n",
       "      <td>50-99</td>\n",
       "      <td>Pvt Ltd</td>\n",
       "      <td>4</td>\n",
       "      <td>44</td>\n",
       "      <td>0.0</td>\n",
       "    </tr>\n",
       "    <tr>\n",
       "      <th>19156</th>\n",
       "      <td>5756</td>\n",
       "      <td>0</td>\n",
       "      <td>0.802</td>\n",
       "      <td>Male</td>\n",
       "      <td>0</td>\n",
       "      <td>no_enrollment</td>\n",
       "      <td>High School</td>\n",
       "      <td>NaN</td>\n",
       "      <td>&lt;1</td>\n",
       "      <td>500-999</td>\n",
       "      <td>Pvt Ltd</td>\n",
       "      <td>2</td>\n",
       "      <td>97</td>\n",
       "      <td>0.0</td>\n",
       "    </tr>\n",
       "    <tr>\n",
       "      <th>19157</th>\n",
       "      <td>23834</td>\n",
       "      <td>3</td>\n",
       "      <td>0.855</td>\n",
       "      <td>NaN</td>\n",
       "      <td>1</td>\n",
       "      <td>no_enrollment</td>\n",
       "      <td>Primary School</td>\n",
       "      <td>NaN</td>\n",
       "      <td>2</td>\n",
       "      <td>NaN</td>\n",
       "      <td>NaN</td>\n",
       "      <td>1</td>\n",
       "      <td>127</td>\n",
       "      <td>0.0</td>\n",
       "    </tr>\n",
       "  </tbody>\n",
       "</table>\n",
       "<p>19158 rows × 14 columns</p>\n",
       "</div>"
      ],
      "text/plain": [
       "       enrollee_id  city  city_development_index gender  relevent_experience  \\\n",
       "0             8949     3                   0.920   Male                    0   \n",
       "1            29725     1                   0.776   Male                    1   \n",
       "2            11561     3                   0.624    NaN                    1   \n",
       "3            33241     1                   0.789    NaN                    1   \n",
       "4              666     0                   0.767   Male                    0   \n",
       "...            ...   ...                     ...    ...                  ...   \n",
       "19153         7386     0                   0.878   Male                    1   \n",
       "19154        31398     3                   0.920   Male                    0   \n",
       "19155        24576     3                   0.920   Male                    0   \n",
       "19156         5756     0                   0.802   Male                    0   \n",
       "19157        23834     3                   0.855    NaN                    1   \n",
       "\n",
       "      enrolled_university education_level major_discipline experience  \\\n",
       "0           no_enrollment        Graduate             STEM        >20   \n",
       "1           no_enrollment        Graduate             STEM         15   \n",
       "2        Full time course        Graduate             STEM          5   \n",
       "3                     NaN        Graduate  Business Degree         <1   \n",
       "4           no_enrollment         Masters             STEM        >20   \n",
       "...                   ...             ...              ...        ...   \n",
       "19153       no_enrollment        Graduate       Humanities         14   \n",
       "19154       no_enrollment        Graduate             STEM         14   \n",
       "19155       no_enrollment        Graduate             STEM        >20   \n",
       "19156       no_enrollment     High School              NaN         <1   \n",
       "19157       no_enrollment  Primary School              NaN          2   \n",
       "\n",
       "      company_size    company_type last_new_job  training_hours  target  \n",
       "0              NaN             NaN            1              36     1.0  \n",
       "1            50-99         Pvt Ltd           >4              47     0.0  \n",
       "2              NaN             NaN        never              83     0.0  \n",
       "3              NaN         Pvt Ltd        never              52     1.0  \n",
       "4            50-99  Funded Startup            4               8     0.0  \n",
       "...            ...             ...          ...             ...     ...  \n",
       "19153          NaN             NaN            1              42     1.0  \n",
       "19154          NaN             NaN            4              52     1.0  \n",
       "19155        50-99         Pvt Ltd            4              44     0.0  \n",
       "19156      500-999         Pvt Ltd            2              97     0.0  \n",
       "19157          NaN             NaN            1             127     0.0  \n",
       "\n",
       "[19158 rows x 14 columns]"
      ]
     },
     "execution_count": 45,
     "metadata": {},
     "output_type": "execute_result"
    }
   ],
   "source": [
    "df_train"
   ]
  },
  {
   "cell_type": "code",
   "execution_count": null,
   "id": "734d5312",
   "metadata": {},
   "outputs": [],
   "source": []
  }
 ],
 "metadata": {
  "kernelspec": {
   "display_name": "Python 3",
   "language": "python",
   "name": "python3"
  },
  "language_info": {
   "codemirror_mode": {
    "name": "ipython",
    "version": 3
   },
   "file_extension": ".py",
   "mimetype": "text/x-python",
   "name": "python",
   "nbconvert_exporter": "python",
   "pygments_lexer": "ipython3",
   "version": "3.8.8"
  }
 },
 "nbformat": 4,
 "nbformat_minor": 5
}
