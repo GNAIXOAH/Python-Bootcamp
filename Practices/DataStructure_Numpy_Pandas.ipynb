{
 "cells": [
  {
   "cell_type": "markdown",
   "id": "0e2fb0a0",
   "metadata": {},
   "source": [
    "### Python Data Structure"
   ]
  },
  {
   "cell_type": "markdown",
   "id": "330228e3",
   "metadata": {},
   "source": [
    "### List (mutable)"
   ]
  },
  {
   "cell_type": "code",
   "execution_count": 2,
   "id": "0bf493f7",
   "metadata": {},
   "outputs": [],
   "source": [
    "lst = [1,2,3,4,5,6]"
   ]
  },
  {
   "cell_type": "code",
   "execution_count": 4,
   "id": "3b5558cc",
   "metadata": {},
   "outputs": [
    {
     "data": {
      "text/plain": [
       "list"
      ]
     },
     "execution_count": 4,
     "metadata": {},
     "output_type": "execute_result"
    }
   ],
   "source": [
    "type(lst)"
   ]
  },
  {
   "cell_type": "code",
   "execution_count": 7,
   "id": "2731cfd1",
   "metadata": {},
   "outputs": [
    {
     "data": {
      "text/plain": [
       "[1, 3, 5]"
      ]
     },
     "execution_count": 7,
     "metadata": {},
     "output_type": "execute_result"
    }
   ],
   "source": [
    "lst[0:5:2] # [start:stop:step]"
   ]
  },
  {
   "cell_type": "code",
   "execution_count": 8,
   "id": "a23ac976",
   "metadata": {},
   "outputs": [],
   "source": [
    "lst.append(7)"
   ]
  },
  {
   "cell_type": "code",
   "execution_count": 9,
   "id": "2ed28113",
   "metadata": {},
   "outputs": [
    {
     "data": {
      "text/plain": [
       "[1, 2, 3, 4, 5, 6, 7]"
      ]
     },
     "execution_count": 9,
     "metadata": {},
     "output_type": "execute_result"
    }
   ],
   "source": [
    "lst"
   ]
  },
  {
   "cell_type": "code",
   "execution_count": 10,
   "id": "97366f3e",
   "metadata": {},
   "outputs": [],
   "source": [
    "lst.append(['A','B','C'])"
   ]
  },
  {
   "cell_type": "code",
   "execution_count": 11,
   "id": "5e6ef63d",
   "metadata": {},
   "outputs": [
    {
     "data": {
      "text/plain": [
       "[1, 2, 3, 4, 5, 6, 7, ['A', 'B', 'C']]"
      ]
     },
     "execution_count": 11,
     "metadata": {},
     "output_type": "execute_result"
    }
   ],
   "source": [
    "lst"
   ]
  },
  {
   "cell_type": "code",
   "execution_count": 12,
   "id": "33602d53",
   "metadata": {},
   "outputs": [],
   "source": [
    "lst2 = [1,2,3,4,5,6]"
   ]
  },
  {
   "cell_type": "code",
   "execution_count": 19,
   "id": "b444e7e1",
   "metadata": {},
   "outputs": [
    {
     "name": "stdout",
     "output_type": "stream",
     "text": [
      "==== 1\n",
      "times 2: 2\n",
      "[2]\n",
      "==== 2\n",
      "times 2: 4\n",
      "[2, 4]\n",
      "==== 3\n",
      "times 2: 6\n",
      "[2, 4, 6]\n",
      "==== 4\n",
      "times 2: 8\n",
      "[2, 4, 6, 8]\n",
      "==== 5\n",
      "times 2: 10\n",
      "[2, 4, 6, 8, 10]\n",
      "==== 6\n",
      "times 2: 12\n",
      "[2, 4, 6, 8, 10, 12]\n"
     ]
    }
   ],
   "source": [
    "lst_times2=[]\n",
    "\n",
    "for x in lst2:\n",
    "    print('====', x)\n",
    "    print('times 2:', x*2)\n",
    "    lst_times2.append(x*2)\n",
    "    print(lst_times2)"
   ]
  },
  {
   "cell_type": "code",
   "execution_count": 20,
   "id": "996555d9",
   "metadata": {},
   "outputs": [
    {
     "data": {
      "text/plain": [
       "[2, 4, 6, 8, 10, 12]"
      ]
     },
     "execution_count": 20,
     "metadata": {},
     "output_type": "execute_result"
    }
   ],
   "source": [
    "lst_times2"
   ]
  },
  {
   "cell_type": "code",
   "execution_count": 21,
   "id": "b13b59eb",
   "metadata": {},
   "outputs": [
    {
     "data": {
      "text/plain": [
       "[2, 4, 6, 8, 10, 12, 14, 16, 18]"
      ]
     },
     "execution_count": 21,
     "metadata": {},
     "output_type": "execute_result"
    }
   ],
   "source": [
    "#append() : add all the elements pass to it as a single element\n",
    "#extend(): add the elements one by one into the list\n",
    "\n",
    "lst_times2.extend([14,16,18])\n",
    "lst_times2"
   ]
  },
  {
   "cell_type": "markdown",
   "id": "3a79f468",
   "metadata": {},
   "source": [
    "##### remove value from list"
   ]
  },
  {
   "cell_type": "code",
   "execution_count": 22,
   "id": "c918bfd7",
   "metadata": {},
   "outputs": [],
   "source": [
    "del lst_times2[5] # remove index 5 element from the list\n",
    "a.pop(1) # remove index 1 element from the list"
   ]
  },
  {
   "cell_type": "code",
   "execution_count": 23,
   "id": "96fd532c",
   "metadata": {},
   "outputs": [
    {
     "data": {
      "text/plain": [
       "[2, 4, 6, 8, 10, 14, 16, 18]"
      ]
     },
     "execution_count": 23,
     "metadata": {},
     "output_type": "execute_result"
    }
   ],
   "source": [
    "lst_times2"
   ]
  },
  {
   "cell_type": "markdown",
   "id": "2c495796",
   "metadata": {},
   "source": [
    "#### Sort the list"
   ]
  },
  {
   "cell_type": "code",
   "execution_count": 25,
   "id": "4e05b389",
   "metadata": {},
   "outputs": [],
   "source": [
    "lst3= [2,4,1,3]"
   ]
  },
  {
   "cell_type": "code",
   "execution_count": 27,
   "id": "9624f1d4",
   "metadata": {},
   "outputs": [],
   "source": [
    "lst3.sort()"
   ]
  },
  {
   "cell_type": "code",
   "execution_count": 36,
   "id": "16cb1627",
   "metadata": {},
   "outputs": [
    {
     "data": {
      "text/plain": [
       "[1, 2, 3, 4]"
      ]
     },
     "execution_count": 36,
     "metadata": {},
     "output_type": "execute_result"
    }
   ],
   "source": [
    "lst3"
   ]
  },
  {
   "cell_type": "code",
   "execution_count": 37,
   "id": "8b5e2351",
   "metadata": {},
   "outputs": [],
   "source": [
    "# list is mutable\n",
    "lst3[0]=1111"
   ]
  },
  {
   "cell_type": "code",
   "execution_count": 38,
   "id": "3605696b",
   "metadata": {},
   "outputs": [
    {
     "data": {
      "text/plain": [
       "[1111, 2, 3, 4]"
      ]
     },
     "execution_count": 38,
     "metadata": {},
     "output_type": "execute_result"
    }
   ],
   "source": [
    "lst3"
   ]
  },
  {
   "cell_type": "code",
   "execution_count": 34,
   "id": "18f66f03",
   "metadata": {},
   "outputs": [
    {
     "name": "stdout",
     "output_type": "stream",
     "text": [
      "<class 'bool'>\n",
      "<class 'int'>\n",
      "<class 'float'>\n",
      "<class 'str'>\n"
     ]
    }
   ],
   "source": [
    "# primetive type: int, float, string,boolean\n",
    "print(type(True))\n",
    "print(type(3))\n",
    "print(type(3.5566)) \n",
    "print(type('word'))"
   ]
  },
  {
   "cell_type": "markdown",
   "id": "fdb18269",
   "metadata": {},
   "source": [
    "### Tuple (immutable, unchangeble)"
   ]
  },
  {
   "cell_type": "code",
   "execution_count": 39,
   "id": "ba253f44",
   "metadata": {},
   "outputs": [],
   "source": [
    "tple = (1,2,3,4)"
   ]
  },
  {
   "cell_type": "code",
   "execution_count": 40,
   "id": "2450b2e4",
   "metadata": {},
   "outputs": [
    {
     "data": {
      "text/plain": [
       "tuple"
      ]
     },
     "execution_count": 40,
     "metadata": {},
     "output_type": "execute_result"
    }
   ],
   "source": [
    "type(tple)"
   ]
  },
  {
   "cell_type": "code",
   "execution_count": 41,
   "id": "4850836a",
   "metadata": {},
   "outputs": [
    {
     "data": {
      "text/plain": [
       "(1, 2, 3)"
      ]
     },
     "execution_count": 41,
     "metadata": {},
     "output_type": "execute_result"
    }
   ],
   "source": [
    "tple[:3]"
   ]
  },
  {
   "cell_type": "code",
   "execution_count": 42,
   "id": "58954733",
   "metadata": {},
   "outputs": [
    {
     "ename": "AttributeError",
     "evalue": "'tuple' object has no attribute 'append'",
     "output_type": "error",
     "traceback": [
      "\u001b[0;31m---------------------------------------------------------------------------\u001b[0m",
      "\u001b[0;31mAttributeError\u001b[0m                            Traceback (most recent call last)",
      "\u001b[0;32m<ipython-input-42-7daba4992372>\u001b[0m in \u001b[0;36m<module>\u001b[0;34m\u001b[0m\n\u001b[0;32m----> 1\u001b[0;31m \u001b[0mtple\u001b[0m\u001b[0;34m.\u001b[0m\u001b[0mappend\u001b[0m\u001b[0;34m(\u001b[0m\u001b[0;36m199999\u001b[0m\u001b[0;34m)\u001b[0m\u001b[0;34m\u001b[0m\u001b[0;34m\u001b[0m\u001b[0m\n\u001b[0m",
      "\u001b[0;31mAttributeError\u001b[0m: 'tuple' object has no attribute 'append'"
     ]
    }
   ],
   "source": [
    "tple.append(199999)"
   ]
  },
  {
   "cell_type": "markdown",
   "id": "0ffc6f70",
   "metadata": {},
   "source": [
    "### Set (mutable, not able to index)"
   ]
  },
  {
   "cell_type": "code",
   "execution_count": 44,
   "id": "8d237a3e",
   "metadata": {},
   "outputs": [
    {
     "data": {
      "text/plain": [
       "{1, 2, 5, 6, 7}"
      ]
     },
     "execution_count": 44,
     "metadata": {},
     "output_type": "execute_result"
    }
   ],
   "source": [
    "lst=[1,2,2,2,7,6,5]\n",
    "set1= set(lst) # unique , \n",
    "set1"
   ]
  },
  {
   "cell_type": "code",
   "execution_count": 45,
   "id": "35b51222",
   "metadata": {},
   "outputs": [
    {
     "data": {
      "text/plain": [
       "{1, 2, 5, 6, 7, 1000}"
      ]
     },
     "execution_count": 45,
     "metadata": {},
     "output_type": "execute_result"
    }
   ],
   "source": [
    "set1.add(1000)\n",
    "set1"
   ]
  },
  {
   "cell_type": "code",
   "execution_count": 46,
   "id": "a7b3ae8e",
   "metadata": {},
   "outputs": [
    {
     "data": {
      "text/plain": [
       "set"
      ]
     },
     "execution_count": 46,
     "metadata": {},
     "output_type": "execute_result"
    }
   ],
   "source": [
    "type(set1)"
   ]
  },
  {
   "cell_type": "code",
   "execution_count": 47,
   "id": "85d15aec",
   "metadata": {},
   "outputs": [
    {
     "ename": "TypeError",
     "evalue": "'set' object is not subscriptable",
     "output_type": "error",
     "traceback": [
      "\u001b[0;31m---------------------------------------------------------------------------\u001b[0m",
      "\u001b[0;31mTypeError\u001b[0m                                 Traceback (most recent call last)",
      "\u001b[0;32m<ipython-input-47-2b36d3536649>\u001b[0m in \u001b[0;36m<module>\u001b[0;34m\u001b[0m\n\u001b[0;32m----> 1\u001b[0;31m \u001b[0mset1\u001b[0m\u001b[0;34m[\u001b[0m\u001b[0;34m:\u001b[0m\u001b[0;36m1\u001b[0m\u001b[0;34m]\u001b[0m\u001b[0;34m\u001b[0m\u001b[0;34m\u001b[0m\u001b[0m\n\u001b[0m",
      "\u001b[0;31mTypeError\u001b[0m: 'set' object is not subscriptable"
     ]
    }
   ],
   "source": [
    "set1[:1]"
   ]
  },
  {
   "cell_type": "code",
   "execution_count": 48,
   "id": "e305a2d1",
   "metadata": {},
   "outputs": [
    {
     "data": {
      "text/plain": [
       "[1]"
      ]
     },
     "execution_count": 48,
     "metadata": {},
     "output_type": "execute_result"
    }
   ],
   "source": [
    "list(set1)[:1]"
   ]
  },
  {
   "cell_type": "markdown",
   "id": "af6ed4ad",
   "metadata": {},
   "source": [
    "### Dictionary (mutable)"
   ]
  },
  {
   "cell_type": "code",
   "execution_count": 49,
   "id": "3bddb95a",
   "metadata": {},
   "outputs": [
    {
     "name": "stdout",
     "output_type": "stream",
     "text": [
      "<class 'dict'>\n"
     ]
    }
   ],
   "source": [
    "# key:value\n",
    "my_dict = {\n",
    "    'Amy':90,\n",
    "    'John':80,\n",
    "    'Alex':70\n",
    "}\n",
    "\n",
    "print(type(my_dict))"
   ]
  },
  {
   "cell_type": "code",
   "execution_count": 50,
   "id": "f9f90de5",
   "metadata": {},
   "outputs": [
    {
     "data": {
      "text/plain": [
       "{'Amy': 90, 'John': 80, 'Alex': 70}"
      ]
     },
     "execution_count": 50,
     "metadata": {},
     "output_type": "execute_result"
    }
   ],
   "source": [
    "my_dict"
   ]
  },
  {
   "cell_type": "code",
   "execution_count": 51,
   "id": "8bcaa6d0",
   "metadata": {},
   "outputs": [],
   "source": [
    "my_dict['Amy']= 100"
   ]
  },
  {
   "cell_type": "code",
   "execution_count": 52,
   "id": "4236548c",
   "metadata": {},
   "outputs": [
    {
     "data": {
      "text/plain": [
       "{'Amy': 100, 'John': 80, 'Alex': 70}"
      ]
     },
     "execution_count": 52,
     "metadata": {},
     "output_type": "execute_result"
    }
   ],
   "source": [
    "my_dict"
   ]
  },
  {
   "cell_type": "code",
   "execution_count": 53,
   "id": "ef431a6b",
   "metadata": {},
   "outputs": [
    {
     "data": {
      "text/plain": [
       "dict_values([100, 80, 70])"
      ]
     },
     "execution_count": 53,
     "metadata": {},
     "output_type": "execute_result"
    }
   ],
   "source": [
    "my_dict.values()"
   ]
  },
  {
   "cell_type": "markdown",
   "id": "f6771b74",
   "metadata": {},
   "source": [
    "## Numpy"
   ]
  },
  {
   "cell_type": "code",
   "execution_count": 54,
   "id": "ca8b69c9",
   "metadata": {},
   "outputs": [],
   "source": [
    "import numpy as np"
   ]
  },
  {
   "cell_type": "code",
   "execution_count": 56,
   "id": "941d23e5",
   "metadata": {},
   "outputs": [],
   "source": [
    "np_array = np.array([1,2,3,4])"
   ]
  },
  {
   "cell_type": "code",
   "execution_count": 58,
   "id": "a5e4d629",
   "metadata": {},
   "outputs": [
    {
     "data": {
      "text/plain": [
       "numpy.ndarray"
      ]
     },
     "execution_count": 58,
     "metadata": {},
     "output_type": "execute_result"
    }
   ],
   "source": [
    "type(np_array)"
   ]
  },
  {
   "cell_type": "code",
   "execution_count": 61,
   "id": "4f16e26f",
   "metadata": {},
   "outputs": [],
   "source": [
    "np_array2 = np.array([\n",
    "    [1,2,3,4],[1,2,3,4]\n",
    "])"
   ]
  },
  {
   "cell_type": "code",
   "execution_count": 65,
   "id": "cb709de9",
   "metadata": {},
   "outputs": [
    {
     "data": {
      "text/plain": [
       "array([[1, 2, 3, 4],\n",
       "       [1, 2, 3, 4]])"
      ]
     },
     "execution_count": 65,
     "metadata": {},
     "output_type": "execute_result"
    }
   ],
   "source": [
    "np_array2"
   ]
  },
  {
   "cell_type": "code",
   "execution_count": 64,
   "id": "e3bbd131",
   "metadata": {},
   "outputs": [
    {
     "data": {
      "text/plain": [
       "(2, 4)"
      ]
     },
     "execution_count": 64,
     "metadata": {},
     "output_type": "execute_result"
    }
   ],
   "source": [
    "np_array2.shape # check numpy array dimensions ( 2 * 4)"
   ]
  },
  {
   "cell_type": "code",
   "execution_count": 75,
   "id": "33b5b6b0",
   "metadata": {},
   "outputs": [],
   "source": [
    "length= 10000000\n",
    "a = np.random.rand(length)\n",
    "b = np.random.rand(length)"
   ]
  },
  {
   "cell_type": "code",
   "execution_count": 76,
   "id": "3eb89713",
   "metadata": {},
   "outputs": [
    {
     "name": "stdout",
     "output_type": "stream",
     "text": [
      "fininsh time: 4.662510871887207\n"
     ]
    }
   ],
   "source": [
    "import time\n",
    "start_time=time.time()\n",
    "\n",
    "c=0\n",
    "for i in range(length):\n",
    "    c+= a[i]*b[i]\n",
    "\n",
    "print('fininsh time:', (time.time()-start_time))"
   ]
  },
  {
   "cell_type": "code",
   "execution_count": 71,
   "id": "f46a5353",
   "metadata": {},
   "outputs": [
    {
     "data": {
      "text/plain": [
       "24.513474820102363"
      ]
     },
     "execution_count": 71,
     "metadata": {},
     "output_type": "execute_result"
    }
   ],
   "source": [
    "c"
   ]
  },
  {
   "cell_type": "code",
   "execution_count": 77,
   "id": "1daa4c62",
   "metadata": {},
   "outputs": [
    {
     "name": "stdout",
     "output_type": "stream",
     "text": [
      "fininsh time: 0.007929801940917969\n"
     ]
    }
   ],
   "source": [
    "start_time=time.time()\n",
    "np.dot(a,b)\n",
    "print('fininsh time:', (time.time()-start_time))"
   ]
  },
  {
   "cell_type": "markdown",
   "id": "26bce9be",
   "metadata": {},
   "source": [
    "## Pandas"
   ]
  },
  {
   "cell_type": "code",
   "execution_count": 78,
   "id": "67ed4ee5",
   "metadata": {},
   "outputs": [],
   "source": [
    "import pandas as pd"
   ]
  },
  {
   "cell_type": "code",
   "execution_count": 79,
   "id": "3d52f8aa",
   "metadata": {},
   "outputs": [],
   "source": [
    "file = 'Times Higher Education.csv' # remeber to add the path of the file"
   ]
  },
  {
   "cell_type": "code",
   "execution_count": 87,
   "id": "afccdc7d",
   "metadata": {},
   "outputs": [],
   "source": [
    "df= pd.read_csv(file,usecols=['location','overall'],nrows=3)"
   ]
  },
  {
   "cell_type": "code",
   "execution_count": 99,
   "id": "198a2603",
   "metadata": {},
   "outputs": [
    {
     "data": {
      "text/html": [
       "<div>\n",
       "<style scoped>\n",
       "    .dataframe tbody tr th:only-of-type {\n",
       "        vertical-align: middle;\n",
       "    }\n",
       "\n",
       "    .dataframe tbody tr th {\n",
       "        vertical-align: top;\n",
       "    }\n",
       "\n",
       "    .dataframe thead th {\n",
       "        text-align: right;\n",
       "    }\n",
       "</style>\n",
       "<table border=\"1\" class=\"dataframe\">\n",
       "  <thead>\n",
       "    <tr style=\"text-align: right;\">\n",
       "      <th></th>\n",
       "      <th>location</th>\n",
       "      <th>overall</th>\n",
       "    </tr>\n",
       "  </thead>\n",
       "  <tbody>\n",
       "    <tr>\n",
       "      <th>0</th>\n",
       "      <td>Massachusetts</td>\n",
       "      <td>91.9</td>\n",
       "    </tr>\n",
       "    <tr>\n",
       "      <th>1</th>\n",
       "      <td>New York</td>\n",
       "      <td>90.6</td>\n",
       "    </tr>\n",
       "    <tr>\n",
       "      <th>2</th>\n",
       "      <td>Massachusetts</td>\n",
       "      <td>90.4</td>\n",
       "    </tr>\n",
       "  </tbody>\n",
       "</table>\n",
       "</div>"
      ],
      "text/plain": [
       "        location  overall\n",
       "0  Massachusetts     91.9\n",
       "1       New York     90.6\n",
       "2  Massachusetts     90.4"
      ]
     },
     "execution_count": 99,
     "metadata": {},
     "output_type": "execute_result"
    }
   ],
   "source": [
    "df"
   ]
  },
  {
   "cell_type": "code",
   "execution_count": 100,
   "id": "750153ad",
   "metadata": {},
   "outputs": [
    {
     "data": {
      "text/html": [
       "<div>\n",
       "<style scoped>\n",
       "    .dataframe tbody tr th:only-of-type {\n",
       "        vertical-align: middle;\n",
       "    }\n",
       "\n",
       "    .dataframe tbody tr th {\n",
       "        vertical-align: top;\n",
       "    }\n",
       "\n",
       "    .dataframe thead th {\n",
       "        text-align: right;\n",
       "    }\n",
       "</style>\n",
       "<table border=\"1\" class=\"dataframe\">\n",
       "  <thead>\n",
       "    <tr style=\"text-align: right;\">\n",
       "      <th></th>\n",
       "      <th>0</th>\n",
       "      <th>1</th>\n",
       "      <th>2</th>\n",
       "    </tr>\n",
       "  </thead>\n",
       "  <tbody>\n",
       "    <tr>\n",
       "      <th>location</th>\n",
       "      <td>Massachusetts</td>\n",
       "      <td>New York</td>\n",
       "      <td>Massachusetts</td>\n",
       "    </tr>\n",
       "    <tr>\n",
       "      <th>overall</th>\n",
       "      <td>91.9</td>\n",
       "      <td>90.6</td>\n",
       "      <td>90.4</td>\n",
       "    </tr>\n",
       "  </tbody>\n",
       "</table>\n",
       "</div>"
      ],
      "text/plain": [
       "                      0         1              2\n",
       "location  Massachusetts  New York  Massachusetts\n",
       "overall            91.9      90.6           90.4"
      ]
     },
     "execution_count": 100,
     "metadata": {},
     "output_type": "execute_result"
    }
   ],
   "source": [
    "df.T"
   ]
  },
  {
   "cell_type": "code",
   "execution_count": 101,
   "id": "6d3532b1",
   "metadata": {},
   "outputs": [
    {
     "data": {
      "text/plain": [
       "0    Massachusetts\n",
       "1         New York\n",
       "2    Massachusetts\n",
       "Name: location, dtype: object"
      ]
     },
     "execution_count": 101,
     "metadata": {},
     "output_type": "execute_result"
    }
   ],
   "source": [
    "df['location']"
   ]
  },
  {
   "cell_type": "code",
   "execution_count": 89,
   "id": "4cb19a0e",
   "metadata": {},
   "outputs": [
    {
     "data": {
      "text/plain": [
       "(3, 2)"
      ]
     },
     "execution_count": 89,
     "metadata": {},
     "output_type": "execute_result"
    }
   ],
   "source": [
    "df.shape"
   ]
  },
  {
   "cell_type": "code",
   "execution_count": 92,
   "id": "67beb6f1",
   "metadata": {},
   "outputs": [
    {
     "data": {
      "text/plain": [
       "pandas.core.frame.DataFrame"
      ]
     },
     "execution_count": 92,
     "metadata": {},
     "output_type": "execute_result"
    }
   ],
   "source": [
    "type(df)"
   ]
  },
  {
   "cell_type": "code",
   "execution_count": 91,
   "id": "e941caee",
   "metadata": {},
   "outputs": [
    {
     "data": {
      "text/html": [
       "<div>\n",
       "<style scoped>\n",
       "    .dataframe tbody tr th:only-of-type {\n",
       "        vertical-align: middle;\n",
       "    }\n",
       "\n",
       "    .dataframe tbody tr th {\n",
       "        vertical-align: top;\n",
       "    }\n",
       "\n",
       "    .dataframe thead th {\n",
       "        text-align: right;\n",
       "    }\n",
       "</style>\n",
       "<table border=\"1\" class=\"dataframe\">\n",
       "  <thead>\n",
       "    <tr style=\"text-align: right;\">\n",
       "      <th></th>\n",
       "      <th>location</th>\n",
       "      <th>overall</th>\n",
       "    </tr>\n",
       "  </thead>\n",
       "  <tbody>\n",
       "    <tr>\n",
       "      <th>1</th>\n",
       "      <td>New York</td>\n",
       "      <td>90.6</td>\n",
       "    </tr>\n",
       "  </tbody>\n",
       "</table>\n",
       "</div>"
      ],
      "text/plain": [
       "   location  overall\n",
       "1  New York     90.6"
      ]
     },
     "execution_count": 91,
     "metadata": {},
     "output_type": "execute_result"
    }
   ],
   "source": [
    "df.loc[df['location']=='New York']"
   ]
  },
  {
   "cell_type": "code",
   "execution_count": 95,
   "id": "3d9630b5",
   "metadata": {},
   "outputs": [],
   "source": [
    "example = np.array([0,1,2,3,4,5,6,7,8,9])"
   ]
  },
  {
   "cell_type": "code",
   "execution_count": 97,
   "id": "4a308613",
   "metadata": {},
   "outputs": [
    {
     "data": {
      "text/plain": [
       "array([1, 3, 5, 7, 9])"
      ]
     },
     "execution_count": 97,
     "metadata": {},
     "output_type": "execute_result"
    }
   ],
   "source": [
    "example[example%2 == 1]"
   ]
  },
  {
   "cell_type": "code",
   "execution_count": 98,
   "id": "c01f6ee6",
   "metadata": {},
   "outputs": [
    {
     "data": {
      "text/plain": [
       "array([False,  True, False,  True, False,  True, False,  True, False,\n",
       "        True])"
      ]
     },
     "execution_count": 98,
     "metadata": {},
     "output_type": "execute_result"
    }
   ],
   "source": [
    "example%2 == 1"
   ]
  },
  {
   "cell_type": "code",
   "execution_count": null,
   "id": "b31a26d6",
   "metadata": {},
   "outputs": [],
   "source": []
  },
  {
   "cell_type": "markdown",
   "id": "39517b92",
   "metadata": {},
   "source": [
    "### Interview Question"
   ]
  },
  {
   "cell_type": "code",
   "execution_count": null,
   "id": "e57c225c",
   "metadata": {},
   "outputs": [],
   "source": [
    "# num = np.array([[1,2,3],[4,5,6],[7,8,9]]) Extract the value 8 using 2D indexing\n",
    "\n",
    "Num[2,1]"
   ]
  }
 ],
 "metadata": {
  "kernelspec": {
   "display_name": "Python 3",
   "language": "python",
   "name": "python3"
  },
  "language_info": {
   "codemirror_mode": {
    "name": "ipython",
    "version": 3
   },
   "file_extension": ".py",
   "mimetype": "text/x-python",
   "name": "python",
   "nbconvert_exporter": "python",
   "pygments_lexer": "ipython3",
   "version": "3.8.8"
  }
 },
 "nbformat": 4,
 "nbformat_minor": 5
}
